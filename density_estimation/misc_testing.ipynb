{
 "cells": [
  {
   "cell_type": "code",
   "execution_count": 4,
   "metadata": {},
   "outputs": [],
   "source": [
    "import json\n",
    "\n",
    "config = json.load(open('/Users/emiliolr/Desktop/counting-cranes/config.json', 'r'))\n",
    "DATA_FP = config['data_filepath_local']\n",
    "CODE_FP = '/Users/emiliolr/Desktop/counting-cranes'"
   ]
  },
  {
   "cell_type": "code",
   "execution_count": 7,
   "metadata": {},
   "outputs": [],
   "source": [
    "import os\n",
    "import sys\n",
    "sys.path.append(CODE_FP)\n",
    "sys.path.append(os.path.join(CODE_FP, 'density_estimation', 'ASPDNet'))\n",
    "\n",
    "from model import ASPDNet\n",
    "from bird_dataset import *\n",
    "\n",
    "import torch\n",
    "import torch.nn as nn\n",
    "from torch.autograd import Variable\n",
    "from torchvision import datasets, transforms\n",
    "import numpy as np"
   ]
  },
  {
   "cell_type": "markdown",
   "metadata": {},
   "source": [
    "# Getting an ASPDNet model working w/our data"
   ]
  },
  {
   "cell_type": "code",
   "execution_count": 12,
   "metadata": {},
   "outputs": [],
   "source": [
    "#Instantiating the model, optimizer, loss\n",
    "model = ASPDNet()\n",
    "criterion = nn.MSELoss(size_average = False)\n",
    "optimizer = torch.optim.SGD(model.parameters(), \n",
    "                            lr = 1e-5,\n",
    "                            momentum = 0.9,\n",
    "                            weight_decay = 0.005)"
   ]
  },
  {
   "cell_type": "code",
   "execution_count": null,
   "metadata": {},
   "outputs": [],
   "source": [
    "#Getting model training up and running\n",
    "#  TODO: continue adapting their code!\n",
    "epochs = 10\n",
    "for epoch in range(epochs):\n",
    "    adjust_learning_rate(optimizer, epoch)\n",
    "\n",
    "    train(train_list, model, criterion, optimizer, epoch)"
   ]
  }
 ],
 "metadata": {
  "kernelspec": {
   "display_name": "Python 3",
   "language": "python",
   "name": "python3"
  },
  "language_info": {
   "codemirror_mode": {
    "name": "ipython",
    "version": 3
   },
   "file_extension": ".py",
   "mimetype": "text/x-python",
   "name": "python",
   "nbconvert_exporter": "python",
   "pygments_lexer": "ipython3",
   "version": "3.7.3"
  }
 },
 "nbformat": 4,
 "nbformat_minor": 4
}
