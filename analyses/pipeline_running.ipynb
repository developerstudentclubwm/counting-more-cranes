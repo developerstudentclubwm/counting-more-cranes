{
 "cells": [
  {
   "cell_type": "markdown",
   "metadata": {
    "id": "In3PormOhsxk"
   },
   "source": [
    "# Pipeline running\n",
    "In this notebook, I use Colab to run the `full_pipeline.py` script while also using GPUs.\n"
   ]
  },
  {
   "cell_type": "markdown",
   "metadata": {
    "id": "xTvBwJeeErZG"
   },
   "source": [
    "## Setup\n",
    "To pull from the GitHub repository in Colab:\n",
    "```\n",
    "%cd drive/MyDrive/Conservation\\ Research/Code/counting-cranes\n",
    "!git add .\n",
    "!git stash\n",
    "!git pull\n",
    "```\n",
    "----"
   ]
  },
  {
   "cell_type": "code",
   "execution_count": 1,
   "metadata": {
    "colab": {
     "base_uri": "https://localhost:8080/"
    },
    "id": "eAev1wwGIMY-",
    "outputId": "804e8010-c3f0-4019-849b-c4b6b096a9f4"
   },
   "outputs": [
    {
     "name": "stdout",
     "output_type": "stream",
     "text": [
      "Mounted at /content/drive\n"
     ]
    }
   ],
   "source": [
    "#Mounting Google Drive...\n",
    "from google.colab import drive\n",
    "\n",
    "drive.mount('/content/drive')"
   ]
  },
  {
   "cell_type": "code",
   "execution_count": 2,
   "metadata": {
    "colab": {
     "base_uri": "https://localhost:8080/",
     "height": 1000
    },
    "id": "wgebqjk2lqac",
    "outputId": "8d0382a5-61ca-4950-d8f5-c115014f2678"
   },
   "outputs": [
    {
     "name": "stdout",
     "output_type": "stream",
     "text": [
      "Collecting torch==1.8.1\n",
      "\u001b[?25l  Downloading https://files.pythonhosted.org/packages/56/74/6fc9dee50f7c93d6b7d9644554bdc9692f3023fa5d1de779666e6bf8ae76/torch-1.8.1-cp37-cp37m-manylinux1_x86_64.whl (804.1MB)\n",
      "\u001b[K     |████████████████████████████████| 804.1MB 22kB/s \n",
      "\u001b[?25hCollecting torchvision==0.9.1\n",
      "\u001b[?25l  Downloading https://files.pythonhosted.org/packages/93/8a/82062a33b5eb7f696bf23f8ccf04bf6fc81d1a4972740fb21c2569ada0a6/torchvision-0.9.1-cp37-cp37m-manylinux1_x86_64.whl (17.4MB)\n",
      "\u001b[K     |████████████████████████████████| 17.4MB 25kB/s \n",
      "\u001b[?25hCollecting torchtext==0.9.1\n",
      "\u001b[?25l  Downloading https://files.pythonhosted.org/packages/ed/ef/a9c28bc62be28294a4def5da3286f3c020e0d3ff9b110b97f1f24b463508/torchtext-0.9.1-cp37-cp37m-manylinux1_x86_64.whl (7.1MB)\n",
      "\u001b[K     |████████████████████████████████| 7.1MB 43.1MB/s \n",
      "\u001b[?25hCollecting Pillow==8.1.0\n",
      "\u001b[?25l  Downloading https://files.pythonhosted.org/packages/eb/8e/d2f7a67cf8da9b83c1e3ee38dbf49448f3c8acb2cb38f76e4301f4a70223/Pillow-8.1.0-cp37-cp37m-manylinux1_x86_64.whl (2.2MB)\n",
      "\u001b[K     |████████████████████████████████| 2.2MB 39.0MB/s \n",
      "\u001b[?25hCollecting jupyterlab==1.0.2\n",
      "\u001b[?25l  Downloading https://files.pythonhosted.org/packages/be/c1/66098b132b226f83c1daa06f99357a9dc6247303b9c044a652d2587349b5/jupyterlab-1.0.2-py2.py3-none-any.whl (17.4MB)\n",
      "\u001b[K     |████████████████████████████████| 17.4MB 203kB/s \n",
      "\u001b[?25hCollecting albumentations==1.0.0\n",
      "\u001b[?25l  Downloading https://files.pythonhosted.org/packages/b0/be/3db3cd8af771988748f69eace42047d5edebf01eaa7e1293f3b3f75f989e/albumentations-1.0.0-py3-none-any.whl (98kB)\n",
      "\u001b[K     |████████████████████████████████| 102kB 15.0MB/s \n",
      "\u001b[?25hCollecting numpy==1.20.3\n",
      "\u001b[?25l  Downloading https://files.pythonhosted.org/packages/a5/42/560d269f604d3e186a57c21a363e77e199358d054884e61b73e405dd217c/numpy-1.20.3-cp37-cp37m-manylinux_2_12_x86_64.manylinux2010_x86_64.whl (15.3MB)\n",
      "\u001b[K     |████████████████████████████████| 15.3MB 205kB/s \n",
      "\u001b[?25hCollecting matplotlib==3.3.4\n",
      "\u001b[?25l  Downloading https://files.pythonhosted.org/packages/23/3d/db9a6b3c83c9511301152dbb64a029c3a4313c86eaef12c237b13ecf91d6/matplotlib-3.3.4-cp37-cp37m-manylinux1_x86_64.whl (11.5MB)\n",
      "\u001b[K     |████████████████████████████████| 11.6MB 261kB/s \n",
      "\u001b[?25hCollecting pytorch-lightning==1.3.4\n",
      "\u001b[?25l  Downloading https://files.pythonhosted.org/packages/94/3d/af3ea8cbd7c3cbb2b50d667062e70980ff56b50b835caf2c80e5da33a1ef/pytorch_lightning-1.3.4-py3-none-any.whl (806kB)\n",
      "\u001b[K     |████████████████████████████████| 808kB 49.7MB/s \n",
      "\u001b[?25hCollecting PyQt5==5.15.4\n",
      "\u001b[?25l  Downloading https://files.pythonhosted.org/packages/ed/62/cd9f10702c75b242f82da858668fba0cda04cda92133244d3d1555e530b4/PyQt5-5.15.4-cp36.cp37.cp38.cp39-abi3-manylinux2014_x86_64.whl (8.3MB)\n",
      "\u001b[K     |████████████████████████████████| 8.3MB 42.1MB/s \n",
      "\u001b[?25hCollecting scipy==1.6.3\n",
      "\u001b[?25l  Downloading https://files.pythonhosted.org/packages/7d/e8/43ffca541d2f208d516296950b25fe1084b35c2881f4d444c1346ca75815/scipy-1.6.3-cp37-cp37m-manylinux1_x86_64.whl (27.4MB)\n",
      "\u001b[K     |████████████████████████████████| 27.4MB 110kB/s \n",
      "\u001b[?25hRequirement already satisfied: torchsummary==1.5.1 in /usr/local/lib/python3.7/dist-packages (from -r /content/drive/MyDrive/Conservation Research/Code/counting-cranes/requirements.txt (line 12)) (1.5.1)\n",
      "Collecting opencv-python==4.5.2.54\n",
      "\u001b[?25l  Downloading https://files.pythonhosted.org/packages/72/b3/3878691fec6babd78bbf4c71c720e1831cbb6ada61679613fe2fae080568/opencv_python-4.5.2.54-cp37-cp37m-manylinux2014_x86_64.whl (51.0MB)\n",
      "\u001b[K     |████████████████████████████████| 51.0MB 60kB/s \n",
      "\u001b[?25hCollecting tifffile==2021.4.8\n",
      "\u001b[?25l  Downloading https://files.pythonhosted.org/packages/c0/9b/db2b4777156c755ea589cb93ae50fc12a39119623bd7eca9bb8eaab523fc/tifffile-2021.4.8-py3-none-any.whl (165kB)\n",
      "\u001b[K     |████████████████████████████████| 174kB 53.0MB/s \n",
      "\u001b[?25hRequirement already satisfied: typing-extensions in /usr/local/lib/python3.7/dist-packages (from torch==1.8.1->-r /content/drive/MyDrive/Conservation Research/Code/counting-cranes/requirements.txt (line 1)) (3.7.4.3)\n",
      "Requirement already satisfied: tqdm in /usr/local/lib/python3.7/dist-packages (from torchtext==0.9.1->-r /content/drive/MyDrive/Conservation Research/Code/counting-cranes/requirements.txt (line 3)) (4.41.1)\n",
      "Requirement already satisfied: requests in /usr/local/lib/python3.7/dist-packages (from torchtext==0.9.1->-r /content/drive/MyDrive/Conservation Research/Code/counting-cranes/requirements.txt (line 3)) (2.23.0)\n",
      "Requirement already satisfied: tornado!=6.0.0,!=6.0.1,!=6.0.2 in /usr/local/lib/python3.7/dist-packages (from jupyterlab==1.0.2->-r /content/drive/MyDrive/Conservation Research/Code/counting-cranes/requirements.txt (line 5)) (5.1.1)\n",
      "Requirement already satisfied: notebook>=4.3.1 in /usr/local/lib/python3.7/dist-packages (from jupyterlab==1.0.2->-r /content/drive/MyDrive/Conservation Research/Code/counting-cranes/requirements.txt (line 5)) (5.3.1)\n",
      "Collecting jupyterlab-server~=1.0.0rc0\n",
      "  Downloading https://files.pythonhosted.org/packages/e1/6f/c393779becee76dfd275001fe04832a658febfcbc8f70e7828fcbf2a9c4d/jupyterlab_server-1.0.0-py3-none-any.whl\n",
      "Requirement already satisfied: PyYAML in /usr/local/lib/python3.7/dist-packages (from albumentations==1.0.0->-r /content/drive/MyDrive/Conservation Research/Code/counting-cranes/requirements.txt (line 6)) (3.13)\n",
      "Collecting opencv-python-headless>=4.1.1\n",
      "\u001b[?25l  Downloading https://files.pythonhosted.org/packages/74/53/48036b28d46c1ed45ec655ae7ef6caab45e4452834d63817fdef64f333a3/opencv_python_headless-4.5.3.56-cp37-cp37m-manylinux2014_x86_64.whl (37.1MB)\n",
      "\u001b[K     |████████████████████████████████| 37.2MB 81kB/s \n",
      "\u001b[?25hRequirement already satisfied: scikit-image>=0.16.1 in /usr/local/lib/python3.7/dist-packages (from albumentations==1.0.0->-r /content/drive/MyDrive/Conservation Research/Code/counting-cranes/requirements.txt (line 6)) (0.16.2)\n",
      "Requirement already satisfied: python-dateutil>=2.1 in /usr/local/lib/python3.7/dist-packages (from matplotlib==3.3.4->-r /content/drive/MyDrive/Conservation Research/Code/counting-cranes/requirements.txt (line 8)) (2.8.1)\n",
      "Requirement already satisfied: cycler>=0.10 in /usr/local/lib/python3.7/dist-packages (from matplotlib==3.3.4->-r /content/drive/MyDrive/Conservation Research/Code/counting-cranes/requirements.txt (line 8)) (0.10.0)\n",
      "Requirement already satisfied: kiwisolver>=1.0.1 in /usr/local/lib/python3.7/dist-packages (from matplotlib==3.3.4->-r /content/drive/MyDrive/Conservation Research/Code/counting-cranes/requirements.txt (line 8)) (1.3.1)\n",
      "Requirement already satisfied: pyparsing!=2.0.4,!=2.1.2,!=2.1.6,>=2.0.3 in /usr/local/lib/python3.7/dist-packages (from matplotlib==3.3.4->-r /content/drive/MyDrive/Conservation Research/Code/counting-cranes/requirements.txt (line 8)) (2.4.7)\n",
      "Collecting torchmetrics>=0.2.0\n",
      "\u001b[?25l  Downloading https://files.pythonhosted.org/packages/4d/8b/de8df9044ca2ac5dfc6b13b9ad3b3ebe6b3a45807311102b569d680e811f/torchmetrics-0.4.1-py3-none-any.whl (234kB)\n",
      "\u001b[K     |████████████████████████████████| 235kB 52.4MB/s \n",
      "\u001b[?25hCollecting fsspec[http]>=2021.4.0\n",
      "\u001b[?25l  Downloading https://files.pythonhosted.org/packages/40/e1/7111d8afc76ee3171f4f99592cd29bac9d233ae1aa34623011506f955434/fsspec-2021.7.0-py3-none-any.whl (118kB)\n",
      "\u001b[K     |████████████████████████████████| 122kB 52.7MB/s \n",
      "\u001b[?25hCollecting future>=0.17.1\n",
      "\u001b[?25l  Downloading https://files.pythonhosted.org/packages/45/0b/38b06fd9b92dc2b68d58b75f900e97884c45bedd2ff83203d933cf5851c9/future-0.18.2.tar.gz (829kB)\n",
      "\u001b[K     |████████████████████████████████| 829kB 45.6MB/s \n",
      "\u001b[?25hRequirement already satisfied: packaging in /usr/local/lib/python3.7/dist-packages (from pytorch-lightning==1.3.4->-r /content/drive/MyDrive/Conservation Research/Code/counting-cranes/requirements.txt (line 9)) (21.0)\n",
      "Collecting pyDeprecate==0.3.0\n",
      "  Downloading https://files.pythonhosted.org/packages/14/52/aa227a0884df71ed1957649085adf2b8bc2a1816d037c2f18b3078854516/pyDeprecate-0.3.0-py3-none-any.whl\n",
      "Collecting tensorboard!=2.5.0,>=2.2.0\n",
      "\u001b[?25l  Downloading https://files.pythonhosted.org/packages/64/21/eebd23060763fedeefb78bc2b286e00fa1d8abda6f70efa2ee08c28af0d4/tensorboard-2.4.1-py3-none-any.whl (10.6MB)\n",
      "\u001b[K     |████████████████████████████████| 10.6MB 43.8MB/s \n",
      "\u001b[?25hCollecting PyQt5-sip<13,>=12.8\n",
      "\u001b[?25l  Downloading https://files.pythonhosted.org/packages/e5/07/129815a9eac86f67c9b8198d26b4077fe80e261c197a19a245bc81ca3bf6/PyQt5_sip-12.9.0-cp37-cp37m-manylinux1_x86_64.whl (317kB)\n",
      "\u001b[K     |████████████████████████████████| 317kB 57.7MB/s \n",
      "\u001b[?25hCollecting PyQt5-Qt5>=5.15\n",
      "\u001b[?25l  Downloading https://files.pythonhosted.org/packages/83/d4/241a6a518d0bcf0a9fcdcbad5edfed18d43e884317eab8d5230a2b27e206/PyQt5_Qt5-5.15.2-py3-none-manylinux2014_x86_64.whl (59.9MB)\n",
      "\u001b[K     |████████████████████████████████| 59.9MB 45kB/s \n",
      "\u001b[?25hRequirement already satisfied: idna<3,>=2.5 in /usr/local/lib/python3.7/dist-packages (from requests->torchtext==0.9.1->-r /content/drive/MyDrive/Conservation Research/Code/counting-cranes/requirements.txt (line 3)) (2.10)\n",
      "Requirement already satisfied: urllib3!=1.25.0,!=1.25.1,<1.26,>=1.21.1 in /usr/local/lib/python3.7/dist-packages (from requests->torchtext==0.9.1->-r /content/drive/MyDrive/Conservation Research/Code/counting-cranes/requirements.txt (line 3)) (1.24.3)\n",
      "Requirement already satisfied: chardet<4,>=3.0.2 in /usr/local/lib/python3.7/dist-packages (from requests->torchtext==0.9.1->-r /content/drive/MyDrive/Conservation Research/Code/counting-cranes/requirements.txt (line 3)) (3.0.4)\n",
      "Requirement already satisfied: certifi>=2017.4.17 in /usr/local/lib/python3.7/dist-packages (from requests->torchtext==0.9.1->-r /content/drive/MyDrive/Conservation Research/Code/counting-cranes/requirements.txt (line 3)) (2021.5.30)\n",
      "Requirement already satisfied: nbconvert in /usr/local/lib/python3.7/dist-packages (from notebook>=4.3.1->jupyterlab==1.0.2->-r /content/drive/MyDrive/Conservation Research/Code/counting-cranes/requirements.txt (line 5)) (5.6.1)\n",
      "Requirement already satisfied: traitlets>=4.2.1 in /usr/local/lib/python3.7/dist-packages (from notebook>=4.3.1->jupyterlab==1.0.2->-r /content/drive/MyDrive/Conservation Research/Code/counting-cranes/requirements.txt (line 5)) (5.0.5)\n",
      "Requirement already satisfied: ipykernel in /usr/local/lib/python3.7/dist-packages (from notebook>=4.3.1->jupyterlab==1.0.2->-r /content/drive/MyDrive/Conservation Research/Code/counting-cranes/requirements.txt (line 5)) (4.10.1)\n",
      "Requirement already satisfied: nbformat in /usr/local/lib/python3.7/dist-packages (from notebook>=4.3.1->jupyterlab==1.0.2->-r /content/drive/MyDrive/Conservation Research/Code/counting-cranes/requirements.txt (line 5)) (5.1.3)\n",
      "Requirement already satisfied: jupyter-core>=4.4.0 in /usr/local/lib/python3.7/dist-packages (from notebook>=4.3.1->jupyterlab==1.0.2->-r /content/drive/MyDrive/Conservation Research/Code/counting-cranes/requirements.txt (line 5)) (4.7.1)\n",
      "Requirement already satisfied: jinja2 in /usr/local/lib/python3.7/dist-packages (from notebook>=4.3.1->jupyterlab==1.0.2->-r /content/drive/MyDrive/Conservation Research/Code/counting-cranes/requirements.txt (line 5)) (2.11.3)\n",
      "Requirement already satisfied: jupyter-client>=5.2.0 in /usr/local/lib/python3.7/dist-packages (from notebook>=4.3.1->jupyterlab==1.0.2->-r /content/drive/MyDrive/Conservation Research/Code/counting-cranes/requirements.txt (line 5)) (5.3.5)\n",
      "Requirement already satisfied: ipython-genutils in /usr/local/lib/python3.7/dist-packages (from notebook>=4.3.1->jupyterlab==1.0.2->-r /content/drive/MyDrive/Conservation Research/Code/counting-cranes/requirements.txt (line 5)) (0.2.0)\n",
      "Requirement already satisfied: Send2Trash in /usr/local/lib/python3.7/dist-packages (from notebook>=4.3.1->jupyterlab==1.0.2->-r /content/drive/MyDrive/Conservation Research/Code/counting-cranes/requirements.txt (line 5)) (1.7.1)\n",
      "Requirement already satisfied: terminado>=0.8.1 in /usr/local/lib/python3.7/dist-packages (from notebook>=4.3.1->jupyterlab==1.0.2->-r /content/drive/MyDrive/Conservation Research/Code/counting-cranes/requirements.txt (line 5)) (0.10.1)\n",
      "Collecting json5\n",
      "  Downloading https://files.pythonhosted.org/packages/7e/8e/ebde0a31c71e7098b3014faf46c80bdbcadb3c23b0ac7c7646b2af7d302e/json5-0.9.6-py2.py3-none-any.whl\n",
      "Collecting jsonschema>=3.0.1\n",
      "\u001b[?25l  Downloading https://files.pythonhosted.org/packages/c5/8f/51e89ce52a085483359217bc72cdbf6e75ee595d5b1d4b5ade40c7e018b8/jsonschema-3.2.0-py2.py3-none-any.whl (56kB)\n",
      "\u001b[K     |████████████████████████████████| 61kB 10.2MB/s \n",
      "\u001b[?25hRequirement already satisfied: PyWavelets>=0.4.0 in /usr/local/lib/python3.7/dist-packages (from scikit-image>=0.16.1->albumentations==1.0.0->-r /content/drive/MyDrive/Conservation Research/Code/counting-cranes/requirements.txt (line 6)) (1.1.1)\n",
      "Requirement already satisfied: networkx>=2.0 in /usr/local/lib/python3.7/dist-packages (from scikit-image>=0.16.1->albumentations==1.0.0->-r /content/drive/MyDrive/Conservation Research/Code/counting-cranes/requirements.txt (line 6)) (2.5.1)\n",
      "Requirement already satisfied: imageio>=2.3.0 in /usr/local/lib/python3.7/dist-packages (from scikit-image>=0.16.1->albumentations==1.0.0->-r /content/drive/MyDrive/Conservation Research/Code/counting-cranes/requirements.txt (line 6)) (2.4.1)\n",
      "Requirement already satisfied: six>=1.5 in /usr/local/lib/python3.7/dist-packages (from python-dateutil>=2.1->matplotlib==3.3.4->-r /content/drive/MyDrive/Conservation Research/Code/counting-cranes/requirements.txt (line 8)) (1.15.0)\n",
      "Collecting aiohttp; extra == \"http\"\n",
      "\u001b[?25l  Downloading https://files.pythonhosted.org/packages/88/c0/5890b4c8b04a79b7360e8fe4490feb0bb3ab179743f199f0e6220cebd568/aiohttp-3.7.4.post0-cp37-cp37m-manylinux2014_x86_64.whl (1.3MB)\n",
      "\u001b[K     |████████████████████████████████| 1.3MB 55.1MB/s \n",
      "\u001b[?25hRequirement already satisfied: absl-py>=0.4 in /usr/local/lib/python3.7/dist-packages (from tensorboard!=2.5.0,>=2.2.0->pytorch-lightning==1.3.4->-r /content/drive/MyDrive/Conservation Research/Code/counting-cranes/requirements.txt (line 9)) (0.12.0)\n",
      "Requirement already satisfied: google-auth-oauthlib<0.5,>=0.4.1 in /usr/local/lib/python3.7/dist-packages (from tensorboard!=2.5.0,>=2.2.0->pytorch-lightning==1.3.4->-r /content/drive/MyDrive/Conservation Research/Code/counting-cranes/requirements.txt (line 9)) (0.4.4)\n",
      "Requirement already satisfied: werkzeug>=0.11.15 in /usr/local/lib/python3.7/dist-packages (from tensorboard!=2.5.0,>=2.2.0->pytorch-lightning==1.3.4->-r /content/drive/MyDrive/Conservation Research/Code/counting-cranes/requirements.txt (line 9)) (1.0.1)\n",
      "Requirement already satisfied: protobuf>=3.6.0 in /usr/local/lib/python3.7/dist-packages (from tensorboard!=2.5.0,>=2.2.0->pytorch-lightning==1.3.4->-r /content/drive/MyDrive/Conservation Research/Code/counting-cranes/requirements.txt (line 9)) (3.17.3)\n",
      "Requirement already satisfied: setuptools>=41.0.0 in /usr/local/lib/python3.7/dist-packages (from tensorboard!=2.5.0,>=2.2.0->pytorch-lightning==1.3.4->-r /content/drive/MyDrive/Conservation Research/Code/counting-cranes/requirements.txt (line 9)) (57.0.0)\n",
      "Requirement already satisfied: google-auth<2,>=1.6.3 in /usr/local/lib/python3.7/dist-packages (from tensorboard!=2.5.0,>=2.2.0->pytorch-lightning==1.3.4->-r /content/drive/MyDrive/Conservation Research/Code/counting-cranes/requirements.txt (line 9)) (1.32.1)\n",
      "Requirement already satisfied: wheel>=0.26; python_version >= \"3\" in /usr/local/lib/python3.7/dist-packages (from tensorboard!=2.5.0,>=2.2.0->pytorch-lightning==1.3.4->-r /content/drive/MyDrive/Conservation Research/Code/counting-cranes/requirements.txt (line 9)) (0.36.2)\n",
      "Requirement already satisfied: markdown>=2.6.8 in /usr/local/lib/python3.7/dist-packages (from tensorboard!=2.5.0,>=2.2.0->pytorch-lightning==1.3.4->-r /content/drive/MyDrive/Conservation Research/Code/counting-cranes/requirements.txt (line 9)) (3.3.4)\n",
      "Requirement already satisfied: grpcio>=1.24.3 in /usr/local/lib/python3.7/dist-packages (from tensorboard!=2.5.0,>=2.2.0->pytorch-lightning==1.3.4->-r /content/drive/MyDrive/Conservation Research/Code/counting-cranes/requirements.txt (line 9)) (1.34.1)\n",
      "Requirement already satisfied: tensorboard-plugin-wit>=1.6.0 in /usr/local/lib/python3.7/dist-packages (from tensorboard!=2.5.0,>=2.2.0->pytorch-lightning==1.3.4->-r /content/drive/MyDrive/Conservation Research/Code/counting-cranes/requirements.txt (line 9)) (1.8.0)\n",
      "Requirement already satisfied: pandocfilters>=1.4.1 in /usr/local/lib/python3.7/dist-packages (from nbconvert->notebook>=4.3.1->jupyterlab==1.0.2->-r /content/drive/MyDrive/Conservation Research/Code/counting-cranes/requirements.txt (line 5)) (1.4.3)\n",
      "Requirement already satisfied: entrypoints>=0.2.2 in /usr/local/lib/python3.7/dist-packages (from nbconvert->notebook>=4.3.1->jupyterlab==1.0.2->-r /content/drive/MyDrive/Conservation Research/Code/counting-cranes/requirements.txt (line 5)) (0.3)\n",
      "Requirement already satisfied: testpath in /usr/local/lib/python3.7/dist-packages (from nbconvert->notebook>=4.3.1->jupyterlab==1.0.2->-r /content/drive/MyDrive/Conservation Research/Code/counting-cranes/requirements.txt (line 5)) (0.5.0)\n",
      "Requirement already satisfied: defusedxml in /usr/local/lib/python3.7/dist-packages (from nbconvert->notebook>=4.3.1->jupyterlab==1.0.2->-r /content/drive/MyDrive/Conservation Research/Code/counting-cranes/requirements.txt (line 5)) (0.7.1)\n",
      "Requirement already satisfied: mistune<2,>=0.8.1 in /usr/local/lib/python3.7/dist-packages (from nbconvert->notebook>=4.3.1->jupyterlab==1.0.2->-r /content/drive/MyDrive/Conservation Research/Code/counting-cranes/requirements.txt (line 5)) (0.8.4)\n",
      "Requirement already satisfied: pygments in /usr/local/lib/python3.7/dist-packages (from nbconvert->notebook>=4.3.1->jupyterlab==1.0.2->-r /content/drive/MyDrive/Conservation Research/Code/counting-cranes/requirements.txt (line 5)) (2.6.1)\n",
      "Requirement already satisfied: bleach in /usr/local/lib/python3.7/dist-packages (from nbconvert->notebook>=4.3.1->jupyterlab==1.0.2->-r /content/drive/MyDrive/Conservation Research/Code/counting-cranes/requirements.txt (line 5)) (3.3.0)\n",
      "Requirement already satisfied: ipython>=4.0.0 in /usr/local/lib/python3.7/dist-packages (from ipykernel->notebook>=4.3.1->jupyterlab==1.0.2->-r /content/drive/MyDrive/Conservation Research/Code/counting-cranes/requirements.txt (line 5)) (5.5.0)\n",
      "Requirement already satisfied: MarkupSafe>=0.23 in /usr/local/lib/python3.7/dist-packages (from jinja2->notebook>=4.3.1->jupyterlab==1.0.2->-r /content/drive/MyDrive/Conservation Research/Code/counting-cranes/requirements.txt (line 5)) (2.0.1)\n",
      "Requirement already satisfied: pyzmq>=13 in /usr/local/lib/python3.7/dist-packages (from jupyter-client>=5.2.0->notebook>=4.3.1->jupyterlab==1.0.2->-r /content/drive/MyDrive/Conservation Research/Code/counting-cranes/requirements.txt (line 5)) (22.1.0)\n",
      "Requirement already satisfied: ptyprocess; os_name != \"nt\" in /usr/local/lib/python3.7/dist-packages (from terminado>=0.8.1->notebook>=4.3.1->jupyterlab==1.0.2->-r /content/drive/MyDrive/Conservation Research/Code/counting-cranes/requirements.txt (line 5)) (0.7.0)\n",
      "Requirement already satisfied: attrs>=17.4.0 in /usr/local/lib/python3.7/dist-packages (from jsonschema>=3.0.1->jupyterlab-server~=1.0.0rc0->jupyterlab==1.0.2->-r /content/drive/MyDrive/Conservation Research/Code/counting-cranes/requirements.txt (line 5)) (21.2.0)\n",
      "Requirement already satisfied: importlib-metadata; python_version < \"3.8\" in /usr/local/lib/python3.7/dist-packages (from jsonschema>=3.0.1->jupyterlab-server~=1.0.0rc0->jupyterlab==1.0.2->-r /content/drive/MyDrive/Conservation Research/Code/counting-cranes/requirements.txt (line 5)) (4.6.1)\n",
      "Requirement already satisfied: pyrsistent>=0.14.0 in /usr/local/lib/python3.7/dist-packages (from jsonschema>=3.0.1->jupyterlab-server~=1.0.0rc0->jupyterlab==1.0.2->-r /content/drive/MyDrive/Conservation Research/Code/counting-cranes/requirements.txt (line 5)) (0.18.0)\n",
      "Requirement already satisfied: decorator<5,>=4.3 in /usr/local/lib/python3.7/dist-packages (from networkx>=2.0->scikit-image>=0.16.1->albumentations==1.0.0->-r /content/drive/MyDrive/Conservation Research/Code/counting-cranes/requirements.txt (line 6)) (4.4.2)\n",
      "Collecting yarl<2.0,>=1.0\n",
      "\u001b[?25l  Downloading https://files.pythonhosted.org/packages/f1/62/046834c5fc998c88ab2ef722f5d42122230a632212c8afa76418324f53ff/yarl-1.6.3-cp37-cp37m-manylinux2014_x86_64.whl (294kB)\n",
      "\u001b[K     |████████████████████████████████| 296kB 58.5MB/s \n",
      "\u001b[?25hCollecting multidict<7.0,>=4.5\n",
      "\u001b[?25l  Downloading https://files.pythonhosted.org/packages/7c/a6/4123b8165acbe773d1a8dc8e3f0d1edea16d29f7de018eda769abb56bd30/multidict-5.1.0-cp37-cp37m-manylinux2014_x86_64.whl (142kB)\n",
      "\u001b[K     |████████████████████████████████| 143kB 51.0MB/s \n",
      "\u001b[?25hCollecting async-timeout<4.0,>=3.0\n",
      "  Downloading https://files.pythonhosted.org/packages/e1/1e/5a4441be21b0726c4464f3f23c8b19628372f606755a9d2e46c187e65ec4/async_timeout-3.0.1-py3-none-any.whl\n",
      "Requirement already satisfied: requests-oauthlib>=0.7.0 in /usr/local/lib/python3.7/dist-packages (from google-auth-oauthlib<0.5,>=0.4.1->tensorboard!=2.5.0,>=2.2.0->pytorch-lightning==1.3.4->-r /content/drive/MyDrive/Conservation Research/Code/counting-cranes/requirements.txt (line 9)) (1.3.0)\n",
      "Requirement already satisfied: rsa<5,>=3.1.4; python_version >= \"3.6\" in /usr/local/lib/python3.7/dist-packages (from google-auth<2,>=1.6.3->tensorboard!=2.5.0,>=2.2.0->pytorch-lightning==1.3.4->-r /content/drive/MyDrive/Conservation Research/Code/counting-cranes/requirements.txt (line 9)) (4.7.2)\n",
      "Requirement already satisfied: cachetools<5.0,>=2.0.0 in /usr/local/lib/python3.7/dist-packages (from google-auth<2,>=1.6.3->tensorboard!=2.5.0,>=2.2.0->pytorch-lightning==1.3.4->-r /content/drive/MyDrive/Conservation Research/Code/counting-cranes/requirements.txt (line 9)) (4.2.2)\n",
      "Requirement already satisfied: pyasn1-modules>=0.2.1 in /usr/local/lib/python3.7/dist-packages (from google-auth<2,>=1.6.3->tensorboard!=2.5.0,>=2.2.0->pytorch-lightning==1.3.4->-r /content/drive/MyDrive/Conservation Research/Code/counting-cranes/requirements.txt (line 9)) (0.2.8)\n",
      "Requirement already satisfied: webencodings in /usr/local/lib/python3.7/dist-packages (from bleach->nbconvert->notebook>=4.3.1->jupyterlab==1.0.2->-r /content/drive/MyDrive/Conservation Research/Code/counting-cranes/requirements.txt (line 5)) (0.5.1)\n",
      "Requirement already satisfied: pexpect; sys_platform != \"win32\" in /usr/local/lib/python3.7/dist-packages (from ipython>=4.0.0->ipykernel->notebook>=4.3.1->jupyterlab==1.0.2->-r /content/drive/MyDrive/Conservation Research/Code/counting-cranes/requirements.txt (line 5)) (4.8.0)\n",
      "Requirement already satisfied: simplegeneric>0.8 in /usr/local/lib/python3.7/dist-packages (from ipython>=4.0.0->ipykernel->notebook>=4.3.1->jupyterlab==1.0.2->-r /content/drive/MyDrive/Conservation Research/Code/counting-cranes/requirements.txt (line 5)) (0.8.1)\n",
      "Requirement already satisfied: prompt-toolkit<2.0.0,>=1.0.4 in /usr/local/lib/python3.7/dist-packages (from ipython>=4.0.0->ipykernel->notebook>=4.3.1->jupyterlab==1.0.2->-r /content/drive/MyDrive/Conservation Research/Code/counting-cranes/requirements.txt (line 5)) (1.0.18)\n",
      "Requirement already satisfied: pickleshare in /usr/local/lib/python3.7/dist-packages (from ipython>=4.0.0->ipykernel->notebook>=4.3.1->jupyterlab==1.0.2->-r /content/drive/MyDrive/Conservation Research/Code/counting-cranes/requirements.txt (line 5)) (0.7.5)\n",
      "Requirement already satisfied: zipp>=0.5 in /usr/local/lib/python3.7/dist-packages (from importlib-metadata; python_version < \"3.8\"->jsonschema>=3.0.1->jupyterlab-server~=1.0.0rc0->jupyterlab==1.0.2->-r /content/drive/MyDrive/Conservation Research/Code/counting-cranes/requirements.txt (line 5)) (3.5.0)\n",
      "Requirement already satisfied: oauthlib>=3.0.0 in /usr/local/lib/python3.7/dist-packages (from requests-oauthlib>=0.7.0->google-auth-oauthlib<0.5,>=0.4.1->tensorboard!=2.5.0,>=2.2.0->pytorch-lightning==1.3.4->-r /content/drive/MyDrive/Conservation Research/Code/counting-cranes/requirements.txt (line 9)) (3.1.1)\n",
      "Requirement already satisfied: pyasn1>=0.1.3 in /usr/local/lib/python3.7/dist-packages (from rsa<5,>=3.1.4; python_version >= \"3.6\"->google-auth<2,>=1.6.3->tensorboard!=2.5.0,>=2.2.0->pytorch-lightning==1.3.4->-r /content/drive/MyDrive/Conservation Research/Code/counting-cranes/requirements.txt (line 9)) (0.4.8)\n",
      "Requirement already satisfied: wcwidth in /usr/local/lib/python3.7/dist-packages (from prompt-toolkit<2.0.0,>=1.0.4->ipython>=4.0.0->ipykernel->notebook>=4.3.1->jupyterlab==1.0.2->-r /content/drive/MyDrive/Conservation Research/Code/counting-cranes/requirements.txt (line 5)) (0.2.5)\n",
      "Building wheels for collected packages: future\n",
      "  Building wheel for future (setup.py) ... \u001b[?25l\u001b[?25hdone\n",
      "  Created wheel for future: filename=future-0.18.2-cp37-none-any.whl size=491070 sha256=49e7fd64e1e85100b6b36a80bd667cd5fc1ddc23b18bd2dfa1c4f3f0cee8d186\n",
      "  Stored in directory: /root/.cache/pip/wheels/8b/99/a0/81daf51dcd359a9377b110a8a886b3895921802d2fc1b2397e\n",
      "Successfully built future\n",
      "\u001b[31mERROR: tensorflow 2.5.0 has requirement numpy~=1.19.2, but you'll have numpy 1.20.3 which is incompatible.\u001b[0m\n",
      "\u001b[31mERROR: tensorflow 2.5.0 has requirement tensorboard~=2.5, but you'll have tensorboard 2.4.1 which is incompatible.\u001b[0m\n",
      "\u001b[31mERROR: nbclient 0.5.3 has requirement jupyter-client>=6.1.5, but you'll have jupyter-client 5.3.5 which is incompatible.\u001b[0m\n",
      "\u001b[31mERROR: datascience 0.10.6 has requirement folium==0.2.1, but you'll have folium 0.8.3 which is incompatible.\u001b[0m\n",
      "\u001b[31mERROR: pytorch-lightning 1.3.4 has requirement PyYAML<=5.4.1,>=5.1, but you'll have pyyaml 3.13 which is incompatible.\u001b[0m\n",
      "Installing collected packages: numpy, torch, Pillow, torchvision, torchtext, json5, jsonschema, jupyterlab-server, jupyterlab, scipy, opencv-python-headless, albumentations, matplotlib, torchmetrics, multidict, yarl, async-timeout, aiohttp, fsspec, future, pyDeprecate, tensorboard, pytorch-lightning, PyQt5-sip, PyQt5-Qt5, PyQt5, opencv-python, tifffile\n",
      "  Found existing installation: numpy 1.19.5\n",
      "    Uninstalling numpy-1.19.5:\n",
      "      Successfully uninstalled numpy-1.19.5\n",
      "  Found existing installation: torch 1.9.0+cu102\n",
      "    Uninstalling torch-1.9.0+cu102:\n",
      "      Successfully uninstalled torch-1.9.0+cu102\n",
      "  Found existing installation: Pillow 7.1.2\n",
      "    Uninstalling Pillow-7.1.2:\n",
      "      Successfully uninstalled Pillow-7.1.2\n",
      "  Found existing installation: torchvision 0.10.0+cu102\n",
      "    Uninstalling torchvision-0.10.0+cu102:\n",
      "      Successfully uninstalled torchvision-0.10.0+cu102\n",
      "  Found existing installation: torchtext 0.10.0\n",
      "    Uninstalling torchtext-0.10.0:\n",
      "      Successfully uninstalled torchtext-0.10.0\n",
      "  Found existing installation: jsonschema 2.6.0\n",
      "    Uninstalling jsonschema-2.6.0:\n",
      "      Successfully uninstalled jsonschema-2.6.0\n",
      "  Found existing installation: scipy 1.4.1\n",
      "    Uninstalling scipy-1.4.1:\n",
      "      Successfully uninstalled scipy-1.4.1\n",
      "  Found existing installation: albumentations 0.1.12\n",
      "    Uninstalling albumentations-0.1.12:\n",
      "      Successfully uninstalled albumentations-0.1.12\n",
      "  Found existing installation: matplotlib 3.2.2\n",
      "    Uninstalling matplotlib-3.2.2:\n",
      "      Successfully uninstalled matplotlib-3.2.2\n",
      "  Found existing installation: future 0.16.0\n",
      "    Uninstalling future-0.16.0:\n",
      "      Successfully uninstalled future-0.16.0\n",
      "  Found existing installation: tensorboard 2.5.0\n",
      "    Uninstalling tensorboard-2.5.0:\n",
      "      Successfully uninstalled tensorboard-2.5.0\n",
      "  Found existing installation: opencv-python 4.1.2.30\n",
      "    Uninstalling opencv-python-4.1.2.30:\n",
      "      Successfully uninstalled opencv-python-4.1.2.30\n",
      "  Found existing installation: tifffile 2021.7.2\n",
      "    Uninstalling tifffile-2021.7.2:\n",
      "      Successfully uninstalled tifffile-2021.7.2\n",
      "Successfully installed Pillow-8.1.0 PyQt5-5.15.4 PyQt5-Qt5-5.15.2 PyQt5-sip-12.9.0 aiohttp-3.7.4.post0 albumentations-1.0.0 async-timeout-3.0.1 fsspec-2021.7.0 future-0.18.2 json5-0.9.6 jsonschema-3.2.0 jupyterlab-1.0.2 jupyterlab-server-1.0.0 matplotlib-3.3.4 multidict-5.1.0 numpy-1.20.3 opencv-python-4.5.2.54 opencv-python-headless-4.5.3.56 pyDeprecate-0.3.0 pytorch-lightning-1.3.4 scipy-1.6.3 tensorboard-2.4.1 tifffile-2021.4.8 torch-1.8.1 torchmetrics-0.4.1 torchtext-0.9.1 torchvision-0.9.1 yarl-1.6.3\n"
     ]
    },
    {
     "data": {
      "application/vnd.colab-display-data+json": {
       "pip_warning": {
        "packages": [
         "PIL",
         "matplotlib",
         "mpl_toolkits",
         "numpy"
        ]
       }
      }
     },
     "metadata": {
      "tags": []
     },
     "output_type": "display_data"
    }
   ],
   "source": [
    "#Will have to restart runtime after running this cell!\n",
    "!pip install -r \"/content/drive/MyDrive/Conservation Research/Code/counting-cranes/requirements.txt\""
   ]
  },
  {
   "cell_type": "markdown",
   "metadata": {
    "id": "VxzLoUhRizx_"
   },
   "source": [
    "## Running the pipeline"
   ]
  },
  {
   "cell_type": "code",
   "execution_count": 1,
   "metadata": {
    "colab": {
     "base_uri": "https://localhost:8080/"
    },
    "id": "Ifmc9cRNiQBX",
    "outputId": "9e77d746-7d65-472c-d534-17388f099e73"
   },
   "outputs": [
    {
     "name": "stdout",
     "output_type": "stream",
     "text": [
      "/content/drive/MyDrive/Conservation Research/Code/counting-cranes\n"
     ]
    }
   ],
   "source": [
    "#Navigating to the correct directory\n",
    "%cd drive/MyDrive/Conservation\\ Research/Code/counting-cranes"
   ]
  },
  {
   "cell_type": "code",
   "execution_count": 2,
   "metadata": {
    "colab": {
     "base_uri": "https://localhost:8080/"
    },
    "id": "JqF36kEtisgs",
    "outputId": "d79f2d29-a99a-4966-bfb0-c0711faaa274"
   },
   "outputs": [
    {
     "name": "stdout",
     "output_type": "stream",
     "text": [
      "Tiling mosaic of size 2491x3830...\n",
      "Done tiling mosaic!\n",
      "\n",
      "Predicting on 260 tiles...\n",
      "\tLoading the saved ASPDNet model...\n",
      "Downloading: \"https://download.pytorch.org/models/vgg16-397923af.pth\" to /root/.cache/torch/hub/checkpoints/vgg16-397923af.pth\n",
      "100% 528M/528M [00:03<00:00, 180MB/s]\n",
      "\tProducing counts...\n",
      "\t\tBatch 1/9\n",
      "\t\tBatch 2/9\n",
      "\t\tBatch 3/9\n",
      "\t\tBatch 4/9\n",
      "\t\tBatch 5/9\n",
      "\t\tBatch 6/9\n",
      "\t\tBatch 7/9\n",
      "\t\tBatch 8/9\n",
      "\t\tBatch 9/9\n",
      "Done with prediction!\n",
      "\n",
      "Results saved!\n"
     ]
    }
   ],
   "source": [
    "#Running the script w/the correct parameters - ASPDNet\n",
    "!python full_pipeline.py /content/drive/MyDrive/Conservation\\ Research/Code/miscellaneous/stitched_parent_image_TEST.png ASPDNet /content/drive/MyDrive/Conservation\\ Research/Code/models_saves/ASPDNet/ASPDNet_no_neg_densities_200_epochs_7.7.2021.ckpt pipeline_results.csv 0"
   ]
  },
  {
   "cell_type": "code",
   "execution_count": 3,
   "metadata": {
    "colab": {
     "base_uri": "https://localhost:8080/"
    },
    "id": "LLxTZ9H5i-nf",
    "outputId": "2f427c89-9060-4266-a4d6-5a815a62f291"
   },
   "outputs": [
    {
     "name": "stdout",
     "output_type": "stream",
     "text": [
      "Tiling mosaic of size 2491x3830...\n",
      "Done tiling mosaic!\n",
      "\n",
      "Predicting on 260 tiles...\n",
      "\tLoading the saved faster_rcnn model...\n",
      "Downloading: \"https://download.pytorch.org/models/resnet50-19c8e357.pth\" to /root/.cache/torch/hub/checkpoints/resnet50-19c8e357.pth\n",
      "100% 97.8M/97.8M [00:00<00:00, 164MB/s]\n",
      "\tProducing counts...\n",
      "\t\tBatch 1/9\n",
      "\t\tBatch 2/9\n",
      "\t\tBatch 3/9\n",
      "\t\tBatch 4/9\n",
      "\t\tBatch 5/9\n",
      "\t\tBatch 6/9\n",
      "\t\tBatch 7/9\n",
      "\t\tBatch 8/9\n",
      "\t\tBatch 9/9\n",
      "Done with prediction!\n",
      "\n",
      "Results saved!\n"
     ]
    }
   ],
   "source": [
    "#Running the script w/the correct parameters - Faster R-CNN\n",
    "!python full_pipeline.py /content/drive/MyDrive/Conservation\\ Research/Code/miscellaneous/stitched_parent_image_TEST.png faster_rcnn /content/drive/MyDrive/Conservation\\ Research/Code/models_saves/faster_rcnn/40_epoch_runs/model1_6.23.2021.pth pipeline_results.csv 0"
   ]
  },
  {
   "cell_type": "code",
   "execution_count": null,
   "metadata": {
    "id": "nk2oP9VLmH6T"
   },
   "outputs": [],
   "source": []
  }
 ],
 "metadata": {
  "accelerator": "GPU",
  "colab": {
   "collapsed_sections": [],
   "name": "pipeline_running.ipynb",
   "provenance": []
  },
  "kernelspec": {
   "display_name": "Python 3",
   "language": "python",
   "name": "python3"
  },
  "language_info": {
   "codemirror_mode": {
    "name": "ipython",
    "version": 3
   },
   "file_extension": ".py",
   "mimetype": "text/x-python",
   "name": "python",
   "nbconvert_exporter": "python",
   "pygments_lexer": "ipython3",
   "version": "3.7.3"
  }
 },
 "nbformat": 4,
 "nbformat_minor": 4
}
