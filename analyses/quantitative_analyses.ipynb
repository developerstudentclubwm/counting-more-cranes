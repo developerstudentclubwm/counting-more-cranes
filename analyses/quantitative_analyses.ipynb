{
  "nbformat": 4,
  "nbformat_minor": 0,
  "metadata": {
    "colab": {
      "name": "quantitative_analyses.ipynb",
      "provenance": [],
      "collapsed_sections": []
    },
    "kernelspec": {
      "name": "python3",
      "display_name": "Python 3"
    },
    "language_info": {
      "name": "python"
    },
    "accelerator": "GPU"
  },
  "cells": [
    {
      "cell_type": "markdown",
      "metadata": {
        "id": "xnCTc7OU60TO"
      },
      "source": [
        "# Quantitative analyses\n",
        "In this notebook, I include all of my quantitative anlayses/results."
      ]
    },
    {
      "cell_type": "markdown",
      "metadata": {
        "id": "xTvBwJeeErZG"
      },
      "source": [
        "## Setup\n",
        "To pull from the GitHub repository in Colab:\n",
        "```\n",
        "%cd drive/MyDrive/Conservation\\ Research/Code/counting-cranes\n",
        "!git add .\n",
        "!git stash\n",
        "!git pull\n",
        "```\n",
        "----"
      ]
    },
    {
      "cell_type": "code",
      "metadata": {
        "colab": {
          "base_uri": "https://localhost:8080/"
        },
        "id": "eAev1wwGIMY-",
        "outputId": "cbc1d3c5-4993-4d25-cc72-84cbf798b3f9"
      },
      "source": [
        "#Mounting Google Drive...\n",
        "from google.colab import drive\n",
        "\n",
        "drive.mount('/content/drive')"
      ],
      "execution_count": 1,
      "outputs": [
        {
          "output_type": "stream",
          "text": [
            "Mounted at /content/drive\n"
          ],
          "name": "stdout"
        }
      ]
    },
    {
      "cell_type": "code",
      "metadata": {
        "id": "wgebqjk2lqac",
        "colab": {
          "base_uri": "https://localhost:8080/",
          "height": 1000
        },
        "outputId": "9713fae3-e204-4eaa-c565-9dc85f814e05"
      },
      "source": [
        "#Will have to restart runtime after running this cell!\n",
        "!pip install -r \"/content/drive/MyDrive/Conservation Research/Code/counting-cranes/requirements.txt\""
      ],
      "execution_count": 2,
      "outputs": [
        {
          "output_type": "stream",
          "text": [
            "Collecting torch==1.8.1\n",
            "  Downloading torch-1.8.1-cp37-cp37m-manylinux1_x86_64.whl (804.1 MB)\n",
            "\u001b[K     |████████████████████████████████| 804.1 MB 2.8 kB/s \n",
            "\u001b[?25hCollecting torchvision==0.9.1\n",
            "  Downloading torchvision-0.9.1-cp37-cp37m-manylinux1_x86_64.whl (17.4 MB)\n",
            "\u001b[K     |████████████████████████████████| 17.4 MB 118 kB/s \n",
            "\u001b[?25hCollecting torchtext==0.9.1\n",
            "  Downloading torchtext-0.9.1-cp37-cp37m-manylinux1_x86_64.whl (7.1 MB)\n",
            "\u001b[K     |████████████████████████████████| 7.1 MB 29.4 MB/s \n",
            "\u001b[?25hCollecting Pillow==8.1.0\n",
            "  Downloading Pillow-8.1.0-cp37-cp37m-manylinux1_x86_64.whl (2.2 MB)\n",
            "\u001b[K     |████████████████████████████████| 2.2 MB 45.7 MB/s \n",
            "\u001b[?25hCollecting jupyterlab==1.0.2\n",
            "  Downloading jupyterlab-1.0.2-py2.py3-none-any.whl (17.4 MB)\n",
            "\u001b[K     |████████████████████████████████| 17.4 MB 162 kB/s \n",
            "\u001b[?25hCollecting albumentations==1.0.0\n",
            "  Downloading albumentations-1.0.0-py3-none-any.whl (98 kB)\n",
            "\u001b[K     |████████████████████████████████| 98 kB 7.4 MB/s \n",
            "\u001b[?25hCollecting numpy==1.20.3\n",
            "  Downloading numpy-1.20.3-cp37-cp37m-manylinux_2_12_x86_64.manylinux2010_x86_64.whl (15.3 MB)\n",
            "\u001b[K     |████████████████████████████████| 15.3 MB 161 kB/s \n",
            "\u001b[?25hCollecting matplotlib==3.3.4\n",
            "  Downloading matplotlib-3.3.4-cp37-cp37m-manylinux1_x86_64.whl (11.5 MB)\n",
            "\u001b[K     |████████████████████████████████| 11.5 MB 12 kB/s \n",
            "\u001b[?25hCollecting pytorch-lightning==1.3.4\n",
            "  Downloading pytorch_lightning-1.3.4-py3-none-any.whl (806 kB)\n",
            "\u001b[K     |████████████████████████████████| 806 kB 26.8 MB/s \n",
            "\u001b[?25hCollecting PyQt5==5.15.4\n",
            "  Downloading PyQt5-5.15.4-cp36.cp37.cp38.cp39-abi3-manylinux2014_x86_64.whl (8.3 MB)\n",
            "\u001b[K     |████████████████████████████████| 8.3 MB 39.7 MB/s \n",
            "\u001b[?25hCollecting scipy==1.6.3\n",
            "  Downloading scipy-1.6.3-cp37-cp37m-manylinux1_x86_64.whl (27.4 MB)\n",
            "\u001b[K     |████████████████████████████████| 27.4 MB 95 kB/s \n",
            "\u001b[?25hRequirement already satisfied: torchsummary==1.5.1 in /usr/local/lib/python3.7/dist-packages (from -r /content/drive/MyDrive/Conservation Research/Code/counting-cranes/requirements.txt (line 12)) (1.5.1)\n",
            "Collecting opencv-python==4.5.2.54\n",
            "  Downloading opencv_python-4.5.2.54-cp37-cp37m-manylinux2014_x86_64.whl (51.0 MB)\n",
            "\u001b[K     |████████████████████████████████| 51.0 MB 66 kB/s \n",
            "\u001b[?25hCollecting tifffile==2021.4.8\n",
            "  Downloading tifffile-2021.4.8-py3-none-any.whl (165 kB)\n",
            "\u001b[K     |████████████████████████████████| 165 kB 51.4 MB/s \n",
            "\u001b[?25hRequirement already satisfied: typing-extensions in /usr/local/lib/python3.7/dist-packages (from torch==1.8.1->-r /content/drive/MyDrive/Conservation Research/Code/counting-cranes/requirements.txt (line 1)) (3.7.4.3)\n",
            "Requirement already satisfied: requests in /usr/local/lib/python3.7/dist-packages (from torchtext==0.9.1->-r /content/drive/MyDrive/Conservation Research/Code/counting-cranes/requirements.txt (line 3)) (2.23.0)\n",
            "Requirement already satisfied: tqdm in /usr/local/lib/python3.7/dist-packages (from torchtext==0.9.1->-r /content/drive/MyDrive/Conservation Research/Code/counting-cranes/requirements.txt (line 3)) (4.62.0)\n",
            "Requirement already satisfied: notebook>=4.3.1 in /usr/local/lib/python3.7/dist-packages (from jupyterlab==1.0.2->-r /content/drive/MyDrive/Conservation Research/Code/counting-cranes/requirements.txt (line 5)) (5.3.1)\n",
            "Collecting jupyterlab-server~=1.0.0rc0\n",
            "  Downloading jupyterlab_server-1.0.0-py3-none-any.whl (26 kB)\n",
            "Requirement already satisfied: tornado!=6.0.0,!=6.0.1,!=6.0.2 in /usr/local/lib/python3.7/dist-packages (from jupyterlab==1.0.2->-r /content/drive/MyDrive/Conservation Research/Code/counting-cranes/requirements.txt (line 5)) (5.1.1)\n",
            "Requirement already satisfied: scikit-image>=0.16.1 in /usr/local/lib/python3.7/dist-packages (from albumentations==1.0.0->-r /content/drive/MyDrive/Conservation Research/Code/counting-cranes/requirements.txt (line 6)) (0.16.2)\n",
            "Collecting opencv-python-headless>=4.1.1\n",
            "  Downloading opencv_python_headless-4.5.3.56-cp37-cp37m-manylinux2014_x86_64.whl (37.1 MB)\n",
            "\u001b[K     |████████████████████████████████| 37.1 MB 46 kB/s \n",
            "\u001b[?25hRequirement already satisfied: PyYAML in /usr/local/lib/python3.7/dist-packages (from albumentations==1.0.0->-r /content/drive/MyDrive/Conservation Research/Code/counting-cranes/requirements.txt (line 6)) (3.13)\n",
            "Requirement already satisfied: kiwisolver>=1.0.1 in /usr/local/lib/python3.7/dist-packages (from matplotlib==3.3.4->-r /content/drive/MyDrive/Conservation Research/Code/counting-cranes/requirements.txt (line 8)) (1.3.1)\n",
            "Requirement already satisfied: pyparsing!=2.0.4,!=2.1.2,!=2.1.6,>=2.0.3 in /usr/local/lib/python3.7/dist-packages (from matplotlib==3.3.4->-r /content/drive/MyDrive/Conservation Research/Code/counting-cranes/requirements.txt (line 8)) (2.4.7)\n",
            "Requirement already satisfied: cycler>=0.10 in /usr/local/lib/python3.7/dist-packages (from matplotlib==3.3.4->-r /content/drive/MyDrive/Conservation Research/Code/counting-cranes/requirements.txt (line 8)) (0.10.0)\n",
            "Requirement already satisfied: python-dateutil>=2.1 in /usr/local/lib/python3.7/dist-packages (from matplotlib==3.3.4->-r /content/drive/MyDrive/Conservation Research/Code/counting-cranes/requirements.txt (line 8)) (2.8.2)\n",
            "Collecting pyDeprecate==0.3.0\n",
            "  Downloading pyDeprecate-0.3.0-py3-none-any.whl (10 kB)\n",
            "Collecting future>=0.17.1\n",
            "  Downloading future-0.18.2.tar.gz (829 kB)\n",
            "\u001b[K     |████████████████████████████████| 829 kB 47.9 MB/s \n",
            "\u001b[?25hRequirement already satisfied: packaging in /usr/local/lib/python3.7/dist-packages (from pytorch-lightning==1.3.4->-r /content/drive/MyDrive/Conservation Research/Code/counting-cranes/requirements.txt (line 9)) (21.0)\n",
            "Collecting fsspec[http]>=2021.4.0\n",
            "  Downloading fsspec-2021.7.0-py3-none-any.whl (118 kB)\n",
            "\u001b[K     |████████████████████████████████| 118 kB 49.9 MB/s \n",
            "\u001b[?25hCollecting torchmetrics>=0.2.0\n",
            "  Downloading torchmetrics-0.5.0-py3-none-any.whl (272 kB)\n",
            "\u001b[K     |████████████████████████████████| 272 kB 41.4 MB/s \n",
            "\u001b[?25hCollecting tensorboard!=2.5.0,>=2.2.0\n",
            "  Downloading tensorboard-2.6.0-py3-none-any.whl (5.6 MB)\n",
            "\u001b[K     |████████████████████████████████| 5.6 MB 31.6 MB/s \n",
            "\u001b[?25hCollecting PyYAML\n",
            "  Downloading PyYAML-5.4.1-cp37-cp37m-manylinux1_x86_64.whl (636 kB)\n",
            "\u001b[K     |████████████████████████████████| 636 kB 41.7 MB/s \n",
            "\u001b[?25hCollecting PyQt5-Qt5>=5.15\n",
            "  Downloading PyQt5_Qt5-5.15.2-py3-none-manylinux2014_x86_64.whl (59.9 MB)\n",
            "\u001b[K     |████████████████████████████████| 59.9 MB 36 kB/s \n",
            "\u001b[?25hCollecting PyQt5-sip<13,>=12.8\n",
            "  Downloading PyQt5_sip-12.9.0-cp37-cp37m-manylinux1_x86_64.whl (317 kB)\n",
            "\u001b[K     |████████████████████████████████| 317 kB 44.8 MB/s \n",
            "\u001b[?25hRequirement already satisfied: six in /usr/local/lib/python3.7/dist-packages (from cycler>=0.10->matplotlib==3.3.4->-r /content/drive/MyDrive/Conservation Research/Code/counting-cranes/requirements.txt (line 8)) (1.15.0)\n",
            "Collecting aiohttp\n",
            "  Downloading aiohttp-3.7.4.post0-cp37-cp37m-manylinux2014_x86_64.whl (1.3 MB)\n",
            "\u001b[K     |████████████████████████████████| 1.3 MB 41.3 MB/s \n",
            "\u001b[?25hCollecting json5\n",
            "  Downloading json5-0.9.6-py2.py3-none-any.whl (18 kB)\n",
            "Collecting jsonschema>=3.0.1\n",
            "  Downloading jsonschema-3.2.0-py2.py3-none-any.whl (56 kB)\n",
            "\u001b[K     |████████████████████████████████| 56 kB 4.3 MB/s \n",
            "\u001b[?25hRequirement already satisfied: setuptools in /usr/local/lib/python3.7/dist-packages (from jsonschema>=3.0.1->jupyterlab-server~=1.0.0rc0->jupyterlab==1.0.2->-r /content/drive/MyDrive/Conservation Research/Code/counting-cranes/requirements.txt (line 5)) (57.4.0)\n",
            "Requirement already satisfied: pyrsistent>=0.14.0 in /usr/local/lib/python3.7/dist-packages (from jsonschema>=3.0.1->jupyterlab-server~=1.0.0rc0->jupyterlab==1.0.2->-r /content/drive/MyDrive/Conservation Research/Code/counting-cranes/requirements.txt (line 5)) (0.18.0)\n",
            "Requirement already satisfied: attrs>=17.4.0 in /usr/local/lib/python3.7/dist-packages (from jsonschema>=3.0.1->jupyterlab-server~=1.0.0rc0->jupyterlab==1.0.2->-r /content/drive/MyDrive/Conservation Research/Code/counting-cranes/requirements.txt (line 5)) (21.2.0)\n",
            "Requirement already satisfied: importlib-metadata in /usr/local/lib/python3.7/dist-packages (from jsonschema>=3.0.1->jupyterlab-server~=1.0.0rc0->jupyterlab==1.0.2->-r /content/drive/MyDrive/Conservation Research/Code/counting-cranes/requirements.txt (line 5)) (4.6.3)\n",
            "Requirement already satisfied: traitlets>=4.2.1 in /usr/local/lib/python3.7/dist-packages (from notebook>=4.3.1->jupyterlab==1.0.2->-r /content/drive/MyDrive/Conservation Research/Code/counting-cranes/requirements.txt (line 5)) (5.0.5)\n",
            "Requirement already satisfied: terminado>=0.8.1 in /usr/local/lib/python3.7/dist-packages (from notebook>=4.3.1->jupyterlab==1.0.2->-r /content/drive/MyDrive/Conservation Research/Code/counting-cranes/requirements.txt (line 5)) (0.10.1)\n",
            "Requirement already satisfied: Send2Trash in /usr/local/lib/python3.7/dist-packages (from notebook>=4.3.1->jupyterlab==1.0.2->-r /content/drive/MyDrive/Conservation Research/Code/counting-cranes/requirements.txt (line 5)) (1.8.0)\n",
            "Requirement already satisfied: jinja2 in /usr/local/lib/python3.7/dist-packages (from notebook>=4.3.1->jupyterlab==1.0.2->-r /content/drive/MyDrive/Conservation Research/Code/counting-cranes/requirements.txt (line 5)) (2.11.3)\n",
            "Requirement already satisfied: jupyter-core>=4.4.0 in /usr/local/lib/python3.7/dist-packages (from notebook>=4.3.1->jupyterlab==1.0.2->-r /content/drive/MyDrive/Conservation Research/Code/counting-cranes/requirements.txt (line 5)) (4.7.1)\n",
            "Requirement already satisfied: nbconvert in /usr/local/lib/python3.7/dist-packages (from notebook>=4.3.1->jupyterlab==1.0.2->-r /content/drive/MyDrive/Conservation Research/Code/counting-cranes/requirements.txt (line 5)) (5.6.1)\n",
            "Requirement already satisfied: jupyter-client>=5.2.0 in /usr/local/lib/python3.7/dist-packages (from notebook>=4.3.1->jupyterlab==1.0.2->-r /content/drive/MyDrive/Conservation Research/Code/counting-cranes/requirements.txt (line 5)) (5.3.5)\n",
            "Requirement already satisfied: ipykernel in /usr/local/lib/python3.7/dist-packages (from notebook>=4.3.1->jupyterlab==1.0.2->-r /content/drive/MyDrive/Conservation Research/Code/counting-cranes/requirements.txt (line 5)) (4.10.1)\n",
            "Requirement already satisfied: ipython-genutils in /usr/local/lib/python3.7/dist-packages (from notebook>=4.3.1->jupyterlab==1.0.2->-r /content/drive/MyDrive/Conservation Research/Code/counting-cranes/requirements.txt (line 5)) (0.2.0)\n",
            "Requirement already satisfied: nbformat in /usr/local/lib/python3.7/dist-packages (from notebook>=4.3.1->jupyterlab==1.0.2->-r /content/drive/MyDrive/Conservation Research/Code/counting-cranes/requirements.txt (line 5)) (5.1.3)\n",
            "Requirement already satisfied: pyzmq>=13 in /usr/local/lib/python3.7/dist-packages (from jupyter-client>=5.2.0->notebook>=4.3.1->jupyterlab==1.0.2->-r /content/drive/MyDrive/Conservation Research/Code/counting-cranes/requirements.txt (line 5)) (22.2.1)\n",
            "Requirement already satisfied: PyWavelets>=0.4.0 in /usr/local/lib/python3.7/dist-packages (from scikit-image>=0.16.1->albumentations==1.0.0->-r /content/drive/MyDrive/Conservation Research/Code/counting-cranes/requirements.txt (line 6)) (1.1.1)\n",
            "Requirement already satisfied: imageio>=2.3.0 in /usr/local/lib/python3.7/dist-packages (from scikit-image>=0.16.1->albumentations==1.0.0->-r /content/drive/MyDrive/Conservation Research/Code/counting-cranes/requirements.txt (line 6)) (2.4.1)\n",
            "Requirement already satisfied: networkx>=2.0 in /usr/local/lib/python3.7/dist-packages (from scikit-image>=0.16.1->albumentations==1.0.0->-r /content/drive/MyDrive/Conservation Research/Code/counting-cranes/requirements.txt (line 6)) (2.6.2)\n",
            "Requirement already satisfied: wheel>=0.26 in /usr/local/lib/python3.7/dist-packages (from tensorboard!=2.5.0,>=2.2.0->pytorch-lightning==1.3.4->-r /content/drive/MyDrive/Conservation Research/Code/counting-cranes/requirements.txt (line 9)) (0.37.0)\n",
            "Requirement already satisfied: markdown>=2.6.8 in /usr/local/lib/python3.7/dist-packages (from tensorboard!=2.5.0,>=2.2.0->pytorch-lightning==1.3.4->-r /content/drive/MyDrive/Conservation Research/Code/counting-cranes/requirements.txt (line 9)) (3.3.4)\n",
            "Requirement already satisfied: tensorboard-data-server<0.7.0,>=0.6.0 in /usr/local/lib/python3.7/dist-packages (from tensorboard!=2.5.0,>=2.2.0->pytorch-lightning==1.3.4->-r /content/drive/MyDrive/Conservation Research/Code/counting-cranes/requirements.txt (line 9)) (0.6.1)\n",
            "Requirement already satisfied: grpcio>=1.24.3 in /usr/local/lib/python3.7/dist-packages (from tensorboard!=2.5.0,>=2.2.0->pytorch-lightning==1.3.4->-r /content/drive/MyDrive/Conservation Research/Code/counting-cranes/requirements.txt (line 9)) (1.34.1)\n",
            "Requirement already satisfied: werkzeug>=0.11.15 in /usr/local/lib/python3.7/dist-packages (from tensorboard!=2.5.0,>=2.2.0->pytorch-lightning==1.3.4->-r /content/drive/MyDrive/Conservation Research/Code/counting-cranes/requirements.txt (line 9)) (1.0.1)\n",
            "Requirement already satisfied: google-auth-oauthlib<0.5,>=0.4.1 in /usr/local/lib/python3.7/dist-packages (from tensorboard!=2.5.0,>=2.2.0->pytorch-lightning==1.3.4->-r /content/drive/MyDrive/Conservation Research/Code/counting-cranes/requirements.txt (line 9)) (0.4.5)\n",
            "Requirement already satisfied: protobuf>=3.6.0 in /usr/local/lib/python3.7/dist-packages (from tensorboard!=2.5.0,>=2.2.0->pytorch-lightning==1.3.4->-r /content/drive/MyDrive/Conservation Research/Code/counting-cranes/requirements.txt (line 9)) (3.17.3)\n",
            "Requirement already satisfied: google-auth<2,>=1.6.3 in /usr/local/lib/python3.7/dist-packages (from tensorboard!=2.5.0,>=2.2.0->pytorch-lightning==1.3.4->-r /content/drive/MyDrive/Conservation Research/Code/counting-cranes/requirements.txt (line 9)) (1.34.0)\n",
            "Requirement already satisfied: absl-py>=0.4 in /usr/local/lib/python3.7/dist-packages (from tensorboard!=2.5.0,>=2.2.0->pytorch-lightning==1.3.4->-r /content/drive/MyDrive/Conservation Research/Code/counting-cranes/requirements.txt (line 9)) (0.12.0)\n",
            "Requirement already satisfied: tensorboard-plugin-wit>=1.6.0 in /usr/local/lib/python3.7/dist-packages (from tensorboard!=2.5.0,>=2.2.0->pytorch-lightning==1.3.4->-r /content/drive/MyDrive/Conservation Research/Code/counting-cranes/requirements.txt (line 9)) (1.8.0)\n",
            "Requirement already satisfied: cachetools<5.0,>=2.0.0 in /usr/local/lib/python3.7/dist-packages (from google-auth<2,>=1.6.3->tensorboard!=2.5.0,>=2.2.0->pytorch-lightning==1.3.4->-r /content/drive/MyDrive/Conservation Research/Code/counting-cranes/requirements.txt (line 9)) (4.2.2)\n",
            "Requirement already satisfied: pyasn1-modules>=0.2.1 in /usr/local/lib/python3.7/dist-packages (from google-auth<2,>=1.6.3->tensorboard!=2.5.0,>=2.2.0->pytorch-lightning==1.3.4->-r /content/drive/MyDrive/Conservation Research/Code/counting-cranes/requirements.txt (line 9)) (0.2.8)\n",
            "Requirement already satisfied: rsa<5,>=3.1.4 in /usr/local/lib/python3.7/dist-packages (from google-auth<2,>=1.6.3->tensorboard!=2.5.0,>=2.2.0->pytorch-lightning==1.3.4->-r /content/drive/MyDrive/Conservation Research/Code/counting-cranes/requirements.txt (line 9)) (4.7.2)\n",
            "Requirement already satisfied: requests-oauthlib>=0.7.0 in /usr/local/lib/python3.7/dist-packages (from google-auth-oauthlib<0.5,>=0.4.1->tensorboard!=2.5.0,>=2.2.0->pytorch-lightning==1.3.4->-r /content/drive/MyDrive/Conservation Research/Code/counting-cranes/requirements.txt (line 9)) (1.3.0)\n",
            "Requirement already satisfied: pyasn1<0.5.0,>=0.4.6 in /usr/local/lib/python3.7/dist-packages (from pyasn1-modules>=0.2.1->google-auth<2,>=1.6.3->tensorboard!=2.5.0,>=2.2.0->pytorch-lightning==1.3.4->-r /content/drive/MyDrive/Conservation Research/Code/counting-cranes/requirements.txt (line 9)) (0.4.8)\n",
            "Requirement already satisfied: idna<3,>=2.5 in /usr/local/lib/python3.7/dist-packages (from requests->torchtext==0.9.1->-r /content/drive/MyDrive/Conservation Research/Code/counting-cranes/requirements.txt (line 3)) (2.10)\n",
            "Requirement already satisfied: certifi>=2017.4.17 in /usr/local/lib/python3.7/dist-packages (from requests->torchtext==0.9.1->-r /content/drive/MyDrive/Conservation Research/Code/counting-cranes/requirements.txt (line 3)) (2021.5.30)\n",
            "Requirement already satisfied: chardet<4,>=3.0.2 in /usr/local/lib/python3.7/dist-packages (from requests->torchtext==0.9.1->-r /content/drive/MyDrive/Conservation Research/Code/counting-cranes/requirements.txt (line 3)) (3.0.4)\n",
            "Requirement already satisfied: urllib3!=1.25.0,!=1.25.1,<1.26,>=1.21.1 in /usr/local/lib/python3.7/dist-packages (from requests->torchtext==0.9.1->-r /content/drive/MyDrive/Conservation Research/Code/counting-cranes/requirements.txt (line 3)) (1.24.3)\n",
            "Requirement already satisfied: oauthlib>=3.0.0 in /usr/local/lib/python3.7/dist-packages (from requests-oauthlib>=0.7.0->google-auth-oauthlib<0.5,>=0.4.1->tensorboard!=2.5.0,>=2.2.0->pytorch-lightning==1.3.4->-r /content/drive/MyDrive/Conservation Research/Code/counting-cranes/requirements.txt (line 9)) (3.1.1)\n",
            "Requirement already satisfied: ptyprocess in /usr/local/lib/python3.7/dist-packages (from terminado>=0.8.1->notebook>=4.3.1->jupyterlab==1.0.2->-r /content/drive/MyDrive/Conservation Research/Code/counting-cranes/requirements.txt (line 5)) (0.7.0)\n",
            "Collecting async-timeout<4.0,>=3.0\n",
            "  Downloading async_timeout-3.0.1-py3-none-any.whl (8.2 kB)\n",
            "Collecting yarl<2.0,>=1.0\n",
            "  Downloading yarl-1.6.3-cp37-cp37m-manylinux2014_x86_64.whl (294 kB)\n",
            "\u001b[K     |████████████████████████████████| 294 kB 42.6 MB/s \n",
            "\u001b[?25hCollecting multidict<7.0,>=4.5\n",
            "  Downloading multidict-5.1.0-cp37-cp37m-manylinux2014_x86_64.whl (142 kB)\n",
            "\u001b[K     |████████████████████████████████| 142 kB 52.5 MB/s \n",
            "\u001b[?25hRequirement already satisfied: zipp>=0.5 in /usr/local/lib/python3.7/dist-packages (from importlib-metadata->jsonschema>=3.0.1->jupyterlab-server~=1.0.0rc0->jupyterlab==1.0.2->-r /content/drive/MyDrive/Conservation Research/Code/counting-cranes/requirements.txt (line 5)) (3.5.0)\n",
            "Requirement already satisfied: ipython>=4.0.0 in /usr/local/lib/python3.7/dist-packages (from ipykernel->notebook>=4.3.1->jupyterlab==1.0.2->-r /content/drive/MyDrive/Conservation Research/Code/counting-cranes/requirements.txt (line 5)) (5.5.0)\n",
            "Requirement already satisfied: pickleshare in /usr/local/lib/python3.7/dist-packages (from ipython>=4.0.0->ipykernel->notebook>=4.3.1->jupyterlab==1.0.2->-r /content/drive/MyDrive/Conservation Research/Code/counting-cranes/requirements.txt (line 5)) (0.7.5)\n",
            "Requirement already satisfied: prompt-toolkit<2.0.0,>=1.0.4 in /usr/local/lib/python3.7/dist-packages (from ipython>=4.0.0->ipykernel->notebook>=4.3.1->jupyterlab==1.0.2->-r /content/drive/MyDrive/Conservation Research/Code/counting-cranes/requirements.txt (line 5)) (1.0.18)\n",
            "Requirement already satisfied: pexpect in /usr/local/lib/python3.7/dist-packages (from ipython>=4.0.0->ipykernel->notebook>=4.3.1->jupyterlab==1.0.2->-r /content/drive/MyDrive/Conservation Research/Code/counting-cranes/requirements.txt (line 5)) (4.8.0)\n",
            "Requirement already satisfied: simplegeneric>0.8 in /usr/local/lib/python3.7/dist-packages (from ipython>=4.0.0->ipykernel->notebook>=4.3.1->jupyterlab==1.0.2->-r /content/drive/MyDrive/Conservation Research/Code/counting-cranes/requirements.txt (line 5)) (0.8.1)\n",
            "Requirement already satisfied: pygments in /usr/local/lib/python3.7/dist-packages (from ipython>=4.0.0->ipykernel->notebook>=4.3.1->jupyterlab==1.0.2->-r /content/drive/MyDrive/Conservation Research/Code/counting-cranes/requirements.txt (line 5)) (2.6.1)\n",
            "Requirement already satisfied: decorator in /usr/local/lib/python3.7/dist-packages (from ipython>=4.0.0->ipykernel->notebook>=4.3.1->jupyterlab==1.0.2->-r /content/drive/MyDrive/Conservation Research/Code/counting-cranes/requirements.txt (line 5)) (4.4.2)\n",
            "Requirement already satisfied: wcwidth in /usr/local/lib/python3.7/dist-packages (from prompt-toolkit<2.0.0,>=1.0.4->ipython>=4.0.0->ipykernel->notebook>=4.3.1->jupyterlab==1.0.2->-r /content/drive/MyDrive/Conservation Research/Code/counting-cranes/requirements.txt (line 5)) (0.2.5)\n",
            "Requirement already satisfied: MarkupSafe>=0.23 in /usr/local/lib/python3.7/dist-packages (from jinja2->notebook>=4.3.1->jupyterlab==1.0.2->-r /content/drive/MyDrive/Conservation Research/Code/counting-cranes/requirements.txt (line 5)) (2.0.1)\n",
            "Requirement already satisfied: entrypoints>=0.2.2 in /usr/local/lib/python3.7/dist-packages (from nbconvert->notebook>=4.3.1->jupyterlab==1.0.2->-r /content/drive/MyDrive/Conservation Research/Code/counting-cranes/requirements.txt (line 5)) (0.3)\n",
            "Requirement already satisfied: mistune<2,>=0.8.1 in /usr/local/lib/python3.7/dist-packages (from nbconvert->notebook>=4.3.1->jupyterlab==1.0.2->-r /content/drive/MyDrive/Conservation Research/Code/counting-cranes/requirements.txt (line 5)) (0.8.4)\n",
            "Requirement already satisfied: testpath in /usr/local/lib/python3.7/dist-packages (from nbconvert->notebook>=4.3.1->jupyterlab==1.0.2->-r /content/drive/MyDrive/Conservation Research/Code/counting-cranes/requirements.txt (line 5)) (0.5.0)\n",
            "Requirement already satisfied: pandocfilters>=1.4.1 in /usr/local/lib/python3.7/dist-packages (from nbconvert->notebook>=4.3.1->jupyterlab==1.0.2->-r /content/drive/MyDrive/Conservation Research/Code/counting-cranes/requirements.txt (line 5)) (1.4.3)\n",
            "Requirement already satisfied: bleach in /usr/local/lib/python3.7/dist-packages (from nbconvert->notebook>=4.3.1->jupyterlab==1.0.2->-r /content/drive/MyDrive/Conservation Research/Code/counting-cranes/requirements.txt (line 5)) (4.0.0)\n",
            "Requirement already satisfied: defusedxml in /usr/local/lib/python3.7/dist-packages (from nbconvert->notebook>=4.3.1->jupyterlab==1.0.2->-r /content/drive/MyDrive/Conservation Research/Code/counting-cranes/requirements.txt (line 5)) (0.7.1)\n",
            "Requirement already satisfied: webencodings in /usr/local/lib/python3.7/dist-packages (from bleach->nbconvert->notebook>=4.3.1->jupyterlab==1.0.2->-r /content/drive/MyDrive/Conservation Research/Code/counting-cranes/requirements.txt (line 5)) (0.5.1)\n",
            "Building wheels for collected packages: future\n",
            "  Building wheel for future (setup.py) ... \u001b[?25l\u001b[?25hdone\n",
            "  Created wheel for future: filename=future-0.18.2-py3-none-any.whl size=491070 sha256=50f4860d074bc609e45896131ba4c30a5570f95968a0a4e7676a299e78de3454\n",
            "  Stored in directory: /root/.cache/pip/wheels/56/b0/fe/4410d17b32f1f0c3cf54cdfb2bc04d7b4b8f4ae377e2229ba0\n",
            "Successfully built future\n",
            "Installing collected packages: jsonschema, multidict, yarl, Pillow, numpy, async-timeout, torch, scipy, matplotlib, json5, fsspec, aiohttp, torchmetrics, tensorboard, PyYAML, PyQt5-sip, PyQt5-Qt5, pyDeprecate, opencv-python-headless, jupyterlab-server, future, torchvision, torchtext, tifffile, pytorch-lightning, PyQt5, opencv-python, jupyterlab, albumentations\n",
            "  Attempting uninstall: jsonschema\n",
            "    Found existing installation: jsonschema 2.6.0\n",
            "    Uninstalling jsonschema-2.6.0:\n",
            "      Successfully uninstalled jsonschema-2.6.0\n",
            "  Attempting uninstall: Pillow\n",
            "    Found existing installation: Pillow 7.1.2\n",
            "    Uninstalling Pillow-7.1.2:\n",
            "      Successfully uninstalled Pillow-7.1.2\n",
            "  Attempting uninstall: numpy\n",
            "    Found existing installation: numpy 1.19.5\n",
            "    Uninstalling numpy-1.19.5:\n",
            "      Successfully uninstalled numpy-1.19.5\n",
            "  Attempting uninstall: torch\n",
            "    Found existing installation: torch 1.9.0+cu102\n",
            "    Uninstalling torch-1.9.0+cu102:\n",
            "      Successfully uninstalled torch-1.9.0+cu102\n",
            "  Attempting uninstall: scipy\n",
            "    Found existing installation: scipy 1.4.1\n",
            "    Uninstalling scipy-1.4.1:\n",
            "      Successfully uninstalled scipy-1.4.1\n",
            "  Attempting uninstall: matplotlib\n",
            "    Found existing installation: matplotlib 3.2.2\n",
            "    Uninstalling matplotlib-3.2.2:\n",
            "      Successfully uninstalled matplotlib-3.2.2\n",
            "  Attempting uninstall: tensorboard\n",
            "    Found existing installation: tensorboard 2.5.0\n",
            "    Uninstalling tensorboard-2.5.0:\n",
            "      Successfully uninstalled tensorboard-2.5.0\n",
            "  Attempting uninstall: PyYAML\n",
            "    Found existing installation: PyYAML 3.13\n",
            "    Uninstalling PyYAML-3.13:\n",
            "      Successfully uninstalled PyYAML-3.13\n",
            "  Attempting uninstall: future\n",
            "    Found existing installation: future 0.16.0\n",
            "    Uninstalling future-0.16.0:\n",
            "      Successfully uninstalled future-0.16.0\n",
            "  Attempting uninstall: torchvision\n",
            "    Found existing installation: torchvision 0.10.0+cu102\n",
            "    Uninstalling torchvision-0.10.0+cu102:\n",
            "      Successfully uninstalled torchvision-0.10.0+cu102\n",
            "  Attempting uninstall: torchtext\n",
            "    Found existing installation: torchtext 0.10.0\n",
            "    Uninstalling torchtext-0.10.0:\n",
            "      Successfully uninstalled torchtext-0.10.0\n",
            "  Attempting uninstall: tifffile\n",
            "    Found existing installation: tifffile 2021.8.8\n",
            "    Uninstalling tifffile-2021.8.8:\n",
            "      Successfully uninstalled tifffile-2021.8.8\n",
            "  Attempting uninstall: opencv-python\n",
            "    Found existing installation: opencv-python 4.1.2.30\n",
            "    Uninstalling opencv-python-4.1.2.30:\n",
            "      Successfully uninstalled opencv-python-4.1.2.30\n",
            "  Attempting uninstall: albumentations\n",
            "    Found existing installation: albumentations 0.1.12\n",
            "    Uninstalling albumentations-0.1.12:\n",
            "      Successfully uninstalled albumentations-0.1.12\n",
            "\u001b[31mERROR: pip's dependency resolver does not currently take into account all the packages that are installed. This behaviour is the source of the following dependency conflicts.\n",
            "tensorflow 2.5.0 requires numpy~=1.19.2, but you have numpy 1.20.3 which is incompatible.\n",
            "nbclient 0.5.3 requires jupyter-client>=6.1.5, but you have jupyter-client 5.3.5 which is incompatible.\n",
            "datascience 0.10.6 requires folium==0.2.1, but you have folium 0.8.3 which is incompatible.\u001b[0m\n",
            "Successfully installed Pillow-8.1.0 PyQt5-5.15.4 PyQt5-Qt5-5.15.2 PyQt5-sip-12.9.0 PyYAML-5.4.1 aiohttp-3.7.4.post0 albumentations-1.0.0 async-timeout-3.0.1 fsspec-2021.7.0 future-0.18.2 json5-0.9.6 jsonschema-3.2.0 jupyterlab-1.0.2 jupyterlab-server-1.0.0 matplotlib-3.3.4 multidict-5.1.0 numpy-1.20.3 opencv-python-4.5.2.54 opencv-python-headless-4.5.3.56 pyDeprecate-0.3.0 pytorch-lightning-1.3.4 scipy-1.6.3 tensorboard-2.6.0 tifffile-2021.4.8 torch-1.8.1 torchmetrics-0.5.0 torchtext-0.9.1 torchvision-0.9.1 yarl-1.6.3\n"
          ],
          "name": "stdout"
        },
        {
          "output_type": "display_data",
          "data": {
            "application/vnd.colab-display-data+json": {
              "pip_warning": {
                "packages": [
                  "PIL",
                  "matplotlib",
                  "mpl_toolkits",
                  "numpy"
                ]
              }
            }
          },
          "metadata": {
            "tags": []
          }
        }
      ]
    },
    {
      "cell_type": "code",
      "metadata": {
        "id": "J-B7ZpiVS7AE"
      },
      "source": [
        "import json\n",
        "\n",
        "config = json.load(open('/content/drive/MyDrive/Conservation Research/Code/counting-cranes/config.json', 'r'))\n",
        "DATA_FP = config['data_filepath_colab']\n",
        "CODE_FP = config['code_filepath_colab']\n",
        "MODEL_SAVE_FP = config['model_saves_filepath_colab']\n",
        "SEEDS = config['random_seeds']\n",
        "FIXED_PERM = config['fixed_data_permutation']\n",
        "ASPDNET_HYPERPARAMETERS = config['ASPDNet_params']\n",
        "FASTER_RCNN_HYPERPARAMETERS = config['faster_rcnn_params']\n",
        "tile_size = tuple(config['tile_size'])"
      ],
      "execution_count": 41,
      "outputs": []
    },
    {
      "cell_type": "code",
      "metadata": {
        "id": "PMij68OdS7AF"
      },
      "source": [
        "import sys\n",
        "import os\n",
        "sys.path.append(CODE_FP) \n",
        "sys.path.append(os.path.join(CODE_FP, 'density_estimation'))\n",
        "sys.path.append(os.path.join(CODE_FP, 'object_detection'))\n",
        "sys.path.append(os.path.join(CODE_FP, 'density_estimation', 'ASPDNet'))\n",
        "\n",
        "from bird_dataset import *\n",
        "from utils import *\n",
        "from ASPDNet_model import *\n",
        "from ASPDNet.model import ASPDNet\n",
        "from faster_rcnn_model import *\n",
        "\n",
        "import torch\n",
        "from torch.utils.data import DataLoader\n",
        "from pytorch_lightning import seed_everything\n",
        "import pandas as pd\n",
        "from itertools import chain"
      ],
      "execution_count": 42,
      "outputs": []
    },
    {
      "cell_type": "markdown",
      "metadata": {
        "id": "7ojP5_3h8O68"
      },
      "source": [
        "## General stuff"
      ]
    },
    {
      "cell_type": "code",
      "metadata": {
        "id": "sk9uYB388o3_",
        "colab": {
          "base_uri": "https://localhost:8080/"
        },
        "outputId": "d9dd36f4-800d-4e97-afb8-0193842d641e"
      },
      "source": [
        "#Establishing the datasets/dataloaders\n",
        "bird_dataset_eval_aspdnet = BirdDataset(root_dir = DATA_FP, \n",
        "                                        transforms = get_transforms('density_estimation', train = False), \n",
        "                                        tiling_method = 'w_o_overlap', \n",
        "                                        annotation_mode = 'points', \n",
        "                                        tile_size = tile_size,\n",
        "                                        sigma = 3)\n",
        "bird_dataset_eval_frcnn = BirdDataset(root_dir = DATA_FP, \n",
        "                                      transforms = get_transforms('object_detection', train = False), \n",
        "                                      tiling_method = 'w_o_overlap', \n",
        "                                      annotation_mode = 'bboxes',\n",
        "                                      tile_size = tile_size) \n",
        "\n",
        "#  recovering the test set\n",
        "indices = FIXED_PERM\n",
        "print(f'Indices used: {indices[28 : ]}')\n",
        "dataset_test_aspdnet = torch.utils.data.Subset(bird_dataset_eval_aspdnet, indices[28 : ])\n",
        "dataset_test_frcnn = torch.utils.data.Subset(bird_dataset_eval_frcnn, indices[28 : ]) \n",
        "\n",
        "#  wrapping datasets in dataloaders\n",
        "dataloader_test_aspdnet = DataLoader(dataset_test_aspdnet, batch_size = ASPDNET_HYPERPARAMETERS['batch_size'], shuffle = False, collate_fn = collate_tiles_density) \n",
        "dataloader_test_frcnn = DataLoader(dataset_test_frcnn, batch_size = FASTER_RCNN_HYPERPARAMETERS['batch_size'], shuffle = False, collate_fn = collate_tiles_object_detection) "
      ],
      "execution_count": 43,
      "outputs": [
        {
          "output_type": "stream",
          "text": [
            "Indices used: [21, 25, 39, 13, 30, 32, 10, 28, 4, 9, 2, 1]\n"
          ],
          "name": "stdout"
        }
      ]
    },
    {
      "cell_type": "code",
      "metadata": {
        "id": "cUtnHYQU8RBN"
      },
      "source": [
        "#Loading both models\n",
        "device = 'cuda' if torch.cuda.is_available() else 'cpu'\n",
        "\n",
        "#  ASPDNet...\n",
        "save_name = 'ASPDNet_no_neg_densities_200_epochs_7.7.2021.ckpt' #TODO: switch w/custom perm model save!\n",
        "aspdnet = ASPDNet(allow_neg_densities = False).to(device)\n",
        "pl_model_aspdnet = ASPDNetLightning.load_from_checkpoint(os.path.join(MODEL_SAVE_FP, 'ASPDNet', save_name), model = aspdnet)\n",
        "pl_model_aspdnet.model.eval()\n",
        "\n",
        "#  Faster R-CNN... \n",
        "save_name = 'faster_rcnn_custom_permutation_7.30.2021.pth'\n",
        "frcnn = get_faster_rcnn(backbone = 'ResNet50', num_classes = 2, **FASTER_RCNN_HYPERPARAMETERS['constructor_hyperparams']).to(device) \n",
        "frcnn.load_state_dict(torch.load(os.path.join(MODEL_SAVE_FP, 'faster_rcnn', 'final_models', save_name)))\n",
        "pl_model_frcnn = FasterRCNNLightning(model = frcnn)\n",
        "pl_model_frcnn.model.eval();"
      ],
      "execution_count": 44,
      "outputs": []
    },
    {
      "cell_type": "markdown",
      "metadata": {
        "id": "wPCNEp93qUkV"
      },
      "source": [
        "## **Performance at different AGLs**\n",
        "How does performance change at different flight heights?"
      ]
    },
    {
      "cell_type": "code",
      "metadata": {
        "id": "cQGmKqieqZYP"
      },
      "source": [
        "#Prepping the metadata stuff... to keep track of pred/true counts and AGL\n",
        "image_metadata = pd.read_csv(os.path.join(DATA_FP, 'dataset_metadata.csv'), index_col = 0) #pulling in the metadata file\n",
        "\n",
        "#  grabbing the names of the test images\n",
        "test_indices = FIXED_PERM[28 : ]\n",
        "test_image_names = list(np.array(bird_dataset_eval_frcnn.image_fps)[test_indices])\n",
        "\n",
        "#  getting metadata for just the test images\n",
        "test_metadata = image_metadata[image_metadata['Image_ID'].str.upper().isin([fp.upper() for fp in test_image_names])]"
      ],
      "execution_count": 71,
      "outputs": []
    },
    {
      "cell_type": "markdown",
      "metadata": {
        "id": "WcZhgIPxVYRq"
      },
      "source": [
        "### _Faster R-CNN_ "
      ]
    },
    {
      "cell_type": "code",
      "metadata": {
        "id": "UYyIGgVzniKx"
      },
      "source": [
        "#Predicting on all imagery and recording true/pred count\n",
        "img_performances = {}\n",
        "\n",
        "with torch.no_grad():\n",
        "  for tiles, targets, image_names, _ in dataloader_test_frcnn:\n",
        "    tiles = [t.to(device) for t in tiles]\n",
        "\n",
        "    preds = pl_model_frcnn(tiles)\n",
        "    true_bboxes = [t['boxes'] for t in targets]\n",
        "    pred_bboxes = [pred_dict['boxes'] for pred_dict in preds]\n",
        "    \n",
        "    pred_count = len(list(chain(*pred_bboxes)))\n",
        "    true_count = len(list(chain(*true_bboxes)))\n",
        "\n",
        "    img_name = '_'.join(image_names[0].split('_')[ : -1]) + '.TIF'\n",
        "    img_performances[img_name] = (pred_count, true_count)"
      ],
      "execution_count": 46,
      "outputs": []
    },
    {
      "cell_type": "markdown",
      "metadata": {
        "id": "7qJspr13VedN"
      },
      "source": [
        "### _ASPDNet_"
      ]
    },
    {
      "cell_type": "code",
      "metadata": {
        "id": "yQgowRYNVgcV"
      },
      "source": [
        "#Predicting on all imagery and recording true/pred count\n",
        "img_performances = {}\n",
        "\n",
        "with torch.no_grad():\n",
        "  for content_1, content_2 in zip(dataloader_test_aspdnet, dataloader_test_frcnn):\n",
        "    tiles, densities, counts = content_1\n",
        "    _, _, image_names, _ = content_2\n",
        "    tiles = tiles.to(device)\n",
        "\n",
        "    preds = pl_model_aspdnet(tiles)   \n",
        "    pred_count = float(preds.sum())\n",
        "    true_count = sum(counts)\n",
        "\n",
        "    img_name = '_'.join(image_names[0].split('_')[ : -1]) + '.TIF'\n",
        "    img_performances[img_name] = (pred_count, true_count)"
      ],
      "execution_count": 65,
      "outputs": []
    },
    {
      "cell_type": "code",
      "metadata": {
        "colab": {
          "base_uri": "https://localhost:8080/",
          "height": 421
        },
        "id": "bVlFhIA7LHvz",
        "outputId": "174097b9-40a9-49c3-fba5-677ac9f0bae7"
      },
      "source": [
        "#Adding these values to the CSV\n",
        "test_metadata = test_metadata.sort_values('Image_ID', axis = 0)\n",
        "\n",
        "performance_tuples = [img_performances[k] for k in sorted(img_performances.keys())]\n",
        "test_metadata['pred_counts'] = [p[0] for p in performance_tuples]\n",
        "test_metadata['true_counts'] = [p[1] for p in performance_tuples]\n",
        "\n",
        "test_metadata = test_metadata.drop('num_bboxes', axis = 1)\n",
        "test_metadata"
      ],
      "execution_count": 72,
      "outputs": [
        {
          "output_type": "execute_result",
          "data": {
            "text/html": [
              "<div>\n",
              "<style scoped>\n",
              "    .dataframe tbody tr th:only-of-type {\n",
              "        vertical-align: middle;\n",
              "    }\n",
              "\n",
              "    .dataframe tbody tr th {\n",
              "        vertical-align: top;\n",
              "    }\n",
              "\n",
              "    .dataframe thead th {\n",
              "        text-align: right;\n",
              "    }\n",
              "</style>\n",
              "<table border=\"1\" class=\"dataframe\">\n",
              "  <thead>\n",
              "    <tr style=\"text-align: right;\">\n",
              "      <th></th>\n",
              "      <th>Image_ID</th>\n",
              "      <th>AGL_feet</th>\n",
              "      <th>pred_counts</th>\n",
              "      <th>true_counts</th>\n",
              "    </tr>\n",
              "  </thead>\n",
              "  <tbody>\n",
              "    <tr>\n",
              "      <th>38</th>\n",
              "      <td>20180320_212958_600_9152.tif</td>\n",
              "      <td>5000</td>\n",
              "      <td>2043.822266</td>\n",
              "      <td>1928</td>\n",
              "    </tr>\n",
              "    <tr>\n",
              "      <th>36</th>\n",
              "      <td>20180320_213531_728_9420.tif</td>\n",
              "      <td>5000</td>\n",
              "      <td>1670.977295</td>\n",
              "      <td>2298</td>\n",
              "    </tr>\n",
              "    <tr>\n",
              "      <th>30</th>\n",
              "      <td>20180321_220440_395_1832.tif</td>\n",
              "      <td>4000</td>\n",
              "      <td>1764.527100</td>\n",
              "      <td>2882</td>\n",
              "    </tr>\n",
              "    <tr>\n",
              "      <th>35</th>\n",
              "      <td>20180321_223216_097_2818.tif</td>\n",
              "      <td>4000</td>\n",
              "      <td>1960.764160</td>\n",
              "      <td>1758</td>\n",
              "    </tr>\n",
              "    <tr>\n",
              "      <th>29</th>\n",
              "      <td>FLIR2_20210321_201851_358_2510.TIF</td>\n",
              "      <td>3500</td>\n",
              "      <td>5103.207520</td>\n",
              "      <td>4283</td>\n",
              "    </tr>\n",
              "    <tr>\n",
              "      <th>2</th>\n",
              "      <td>FLIR2_20210321_205850_355_4974.TIF</td>\n",
              "      <td>2500</td>\n",
              "      <td>1742.001221</td>\n",
              "      <td>1742</td>\n",
              "    </tr>\n",
              "    <tr>\n",
              "      <th>10</th>\n",
              "      <td>FLIR2_20210321_223145_103_6726.TIF</td>\n",
              "      <td>2000</td>\n",
              "      <td>1854.508423</td>\n",
              "      <td>1862</td>\n",
              "    </tr>\n",
              "    <tr>\n",
              "      <th>14</th>\n",
              "      <td>FLIR2_20210321_223624_804_6818.TIF</td>\n",
              "      <td>2000</td>\n",
              "      <td>1940.706543</td>\n",
              "      <td>2158</td>\n",
              "    </tr>\n",
              "    <tr>\n",
              "      <th>17</th>\n",
              "      <td>FLIR2_20210321_224952_670_7004.TIF</td>\n",
              "      <td>3500</td>\n",
              "      <td>179.527466</td>\n",
              "      <td>116</td>\n",
              "    </tr>\n",
              "    <tr>\n",
              "      <th>19</th>\n",
              "      <td>FLIR2_20210321_225423_648_7070.TIF</td>\n",
              "      <td>3000</td>\n",
              "      <td>180.429092</td>\n",
              "      <td>190</td>\n",
              "    </tr>\n",
              "    <tr>\n",
              "      <th>21</th>\n",
              "      <td>FLIR2_20210321_225459_651_7106.TIF</td>\n",
              "      <td>3000</td>\n",
              "      <td>482.857788</td>\n",
              "      <td>430</td>\n",
              "    </tr>\n",
              "    <tr>\n",
              "      <th>28</th>\n",
              "      <td>FLIR2_20210321_230004_454_7167.TIF</td>\n",
              "      <td>2500</td>\n",
              "      <td>352.870789</td>\n",
              "      <td>333</td>\n",
              "    </tr>\n",
              "  </tbody>\n",
              "</table>\n",
              "</div>"
            ],
            "text/plain": [
              "                              Image_ID  AGL_feet  pred_counts  true_counts\n",
              "38        20180320_212958_600_9152.tif      5000  2043.822266         1928\n",
              "36        20180320_213531_728_9420.tif      5000  1670.977295         2298\n",
              "30        20180321_220440_395_1832.tif      4000  1764.527100         2882\n",
              "35        20180321_223216_097_2818.tif      4000  1960.764160         1758\n",
              "29  FLIR2_20210321_201851_358_2510.TIF      3500  5103.207520         4283\n",
              "2   FLIR2_20210321_205850_355_4974.TIF      2500  1742.001221         1742\n",
              "10  FLIR2_20210321_223145_103_6726.TIF      2000  1854.508423         1862\n",
              "14  FLIR2_20210321_223624_804_6818.TIF      2000  1940.706543         2158\n",
              "17  FLIR2_20210321_224952_670_7004.TIF      3500   179.527466          116\n",
              "19  FLIR2_20210321_225423_648_7070.TIF      3000   180.429092          190\n",
              "21  FLIR2_20210321_225459_651_7106.TIF      3000   482.857788          430\n",
              "28  FLIR2_20210321_230004_454_7167.TIF      2500   352.870789          333"
            ]
          },
          "metadata": {
            "tags": []
          },
          "execution_count": 72
        }
      ]
    },
    {
      "cell_type": "code",
      "metadata": {
        "colab": {
          "base_uri": "https://localhost:8080/"
        },
        "id": "ZaZUmhhJoUwG",
        "outputId": "25878cf7-c9d1-4b4b-c1e5-082d50246601"
      },
      "source": [
        "#CHECK: we should be able to recover MPE/RMSE/MAE metrics here - DELETE EVENTUALLY!\n",
        "pc = test_metadata['pred_counts']\n",
        "tc = test_metadata['true_counts']\n",
        "\n",
        "pe = 100 * np.absolute(pc - tc) / tc\n",
        "ae = np.absolute(pc - tc)\n",
        "se = (pc - tc) ** 2\n",
        "\n",
        "pe.mean()"
      ],
      "execution_count": 73,
      "outputs": [
        {
          "output_type": "execute_result",
          "data": {
            "text/plain": [
              "15.940415397293298"
            ]
          },
          "metadata": {
            "tags": []
          },
          "execution_count": 73
        }
      ]
    },
    {
      "cell_type": "markdown",
      "metadata": {
        "id": "1_b7kuMOqf4m"
      },
      "source": [
        "## **Performance in 2018 vs 2021 imagery**\n",
        "How does performance on the 2021 imagery match up against 2018 imagery performance?\n",
        "\n",
        "*(Here, I'm just adding to the existing metadata/predictions dataframe!)*"
      ]
    },
    {
      "cell_type": "code",
      "metadata": {
        "id": "gE8HY-XKqtH-",
        "colab": {
          "base_uri": "https://localhost:8080/",
          "height": 421
        },
        "outputId": "21c1a147-6c54-44aa-940e-814d279ca23f"
      },
      "source": [
        "def sort_2018_v_2021(image_fp):\n",
        "  return 2021 if image_fp.startswith('FLIR2') else 2018\n",
        "\n",
        "test_metadata['year_taken'] = test_metadata['Image_ID'].apply(sort_2018_v_2021)\n",
        "test_metadata"
      ],
      "execution_count": 75,
      "outputs": [
        {
          "output_type": "execute_result",
          "data": {
            "text/html": [
              "<div>\n",
              "<style scoped>\n",
              "    .dataframe tbody tr th:only-of-type {\n",
              "        vertical-align: middle;\n",
              "    }\n",
              "\n",
              "    .dataframe tbody tr th {\n",
              "        vertical-align: top;\n",
              "    }\n",
              "\n",
              "    .dataframe thead th {\n",
              "        text-align: right;\n",
              "    }\n",
              "</style>\n",
              "<table border=\"1\" class=\"dataframe\">\n",
              "  <thead>\n",
              "    <tr style=\"text-align: right;\">\n",
              "      <th></th>\n",
              "      <th>Image_ID</th>\n",
              "      <th>AGL_feet</th>\n",
              "      <th>pred_counts</th>\n",
              "      <th>true_counts</th>\n",
              "      <th>year_taken</th>\n",
              "    </tr>\n",
              "  </thead>\n",
              "  <tbody>\n",
              "    <tr>\n",
              "      <th>38</th>\n",
              "      <td>20180320_212958_600_9152.tif</td>\n",
              "      <td>5000</td>\n",
              "      <td>2043.822266</td>\n",
              "      <td>1928</td>\n",
              "      <td>2018</td>\n",
              "    </tr>\n",
              "    <tr>\n",
              "      <th>36</th>\n",
              "      <td>20180320_213531_728_9420.tif</td>\n",
              "      <td>5000</td>\n",
              "      <td>1670.977295</td>\n",
              "      <td>2298</td>\n",
              "      <td>2018</td>\n",
              "    </tr>\n",
              "    <tr>\n",
              "      <th>30</th>\n",
              "      <td>20180321_220440_395_1832.tif</td>\n",
              "      <td>4000</td>\n",
              "      <td>1764.527100</td>\n",
              "      <td>2882</td>\n",
              "      <td>2018</td>\n",
              "    </tr>\n",
              "    <tr>\n",
              "      <th>35</th>\n",
              "      <td>20180321_223216_097_2818.tif</td>\n",
              "      <td>4000</td>\n",
              "      <td>1960.764160</td>\n",
              "      <td>1758</td>\n",
              "      <td>2018</td>\n",
              "    </tr>\n",
              "    <tr>\n",
              "      <th>29</th>\n",
              "      <td>FLIR2_20210321_201851_358_2510.TIF</td>\n",
              "      <td>3500</td>\n",
              "      <td>5103.207520</td>\n",
              "      <td>4283</td>\n",
              "      <td>2021</td>\n",
              "    </tr>\n",
              "    <tr>\n",
              "      <th>2</th>\n",
              "      <td>FLIR2_20210321_205850_355_4974.TIF</td>\n",
              "      <td>2500</td>\n",
              "      <td>1742.001221</td>\n",
              "      <td>1742</td>\n",
              "      <td>2021</td>\n",
              "    </tr>\n",
              "    <tr>\n",
              "      <th>10</th>\n",
              "      <td>FLIR2_20210321_223145_103_6726.TIF</td>\n",
              "      <td>2000</td>\n",
              "      <td>1854.508423</td>\n",
              "      <td>1862</td>\n",
              "      <td>2021</td>\n",
              "    </tr>\n",
              "    <tr>\n",
              "      <th>14</th>\n",
              "      <td>FLIR2_20210321_223624_804_6818.TIF</td>\n",
              "      <td>2000</td>\n",
              "      <td>1940.706543</td>\n",
              "      <td>2158</td>\n",
              "      <td>2021</td>\n",
              "    </tr>\n",
              "    <tr>\n",
              "      <th>17</th>\n",
              "      <td>FLIR2_20210321_224952_670_7004.TIF</td>\n",
              "      <td>3500</td>\n",
              "      <td>179.527466</td>\n",
              "      <td>116</td>\n",
              "      <td>2021</td>\n",
              "    </tr>\n",
              "    <tr>\n",
              "      <th>19</th>\n",
              "      <td>FLIR2_20210321_225423_648_7070.TIF</td>\n",
              "      <td>3000</td>\n",
              "      <td>180.429092</td>\n",
              "      <td>190</td>\n",
              "      <td>2021</td>\n",
              "    </tr>\n",
              "    <tr>\n",
              "      <th>21</th>\n",
              "      <td>FLIR2_20210321_225459_651_7106.TIF</td>\n",
              "      <td>3000</td>\n",
              "      <td>482.857788</td>\n",
              "      <td>430</td>\n",
              "      <td>2021</td>\n",
              "    </tr>\n",
              "    <tr>\n",
              "      <th>28</th>\n",
              "      <td>FLIR2_20210321_230004_454_7167.TIF</td>\n",
              "      <td>2500</td>\n",
              "      <td>352.870789</td>\n",
              "      <td>333</td>\n",
              "      <td>2021</td>\n",
              "    </tr>\n",
              "  </tbody>\n",
              "</table>\n",
              "</div>"
            ],
            "text/plain": [
              "                              Image_ID  AGL_feet  ...  true_counts  year_taken\n",
              "38        20180320_212958_600_9152.tif      5000  ...         1928        2018\n",
              "36        20180320_213531_728_9420.tif      5000  ...         2298        2018\n",
              "30        20180321_220440_395_1832.tif      4000  ...         2882        2018\n",
              "35        20180321_223216_097_2818.tif      4000  ...         1758        2018\n",
              "29  FLIR2_20210321_201851_358_2510.TIF      3500  ...         4283        2021\n",
              "2   FLIR2_20210321_205850_355_4974.TIF      2500  ...         1742        2021\n",
              "10  FLIR2_20210321_223145_103_6726.TIF      2000  ...         1862        2021\n",
              "14  FLIR2_20210321_223624_804_6818.TIF      2000  ...         2158        2021\n",
              "17  FLIR2_20210321_224952_670_7004.TIF      3500  ...          116        2021\n",
              "19  FLIR2_20210321_225423_648_7070.TIF      3000  ...          190        2021\n",
              "21  FLIR2_20210321_225459_651_7106.TIF      3000  ...          430        2021\n",
              "28  FLIR2_20210321_230004_454_7167.TIF      2500  ...          333        2021\n",
              "\n",
              "[12 rows x 5 columns]"
            ]
          },
          "metadata": {
            "tags": []
          },
          "execution_count": 75
        }
      ]
    },
    {
      "cell_type": "code",
      "metadata": {
        "id": "DBi9Knimbc-I"
      },
      "source": [
        ""
      ],
      "execution_count": null,
      "outputs": []
    }
  ]
}