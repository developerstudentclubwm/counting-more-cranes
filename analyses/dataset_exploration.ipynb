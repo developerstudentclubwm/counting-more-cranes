{
 "cells": [
  {
   "cell_type": "markdown",
   "metadata": {},
   "source": [
    "# Dataset exploration\n",
    "In this notebook, I explore the dataset for use in the methods section of the paper."
   ]
  },
  {
   "cell_type": "markdown",
   "metadata": {},
   "source": [
    "## Setup"
   ]
  },
  {
   "cell_type": "code",
   "execution_count": 1,
   "metadata": {},
   "outputs": [],
   "source": [
    "import glob\n",
    "import json\n",
    "import os\n",
    "import sys\n",
    "import json\n",
    "\n",
    "import numpy as np\n",
    "import pandas as pd\n",
    "import seaborn as sns\n",
    "import matplotlib.pyplot as plt\n",
    "\n",
    "import torch\n",
    "from pytorch_lightning import seed_everything\n",
    "\n",
    "config = json.load(open('/Users/emiliolr/Desktop/counting-cranes/config.json', 'r'))\n",
    "CODE_FP = config['code_filepath_local']\n",
    "DATA_FP = config['data_filepath_local']\n",
    "FIXED_PERM = config['fixed_data_permutation']\n",
    "SEEDS = config['random_seeds']\n",
    "\n",
    "sys.path.append(os.path.join(CODE_FP))\n",
    "\n",
    "from utils import *\n",
    "from bird_dataset import *"
   ]
  },
  {
   "cell_type": "markdown",
   "metadata": {},
   "source": [
    "## Checking distribution of data across AGL"
   ]
  },
  {
   "cell_type": "code",
   "execution_count": 2,
   "metadata": {},
   "outputs": [],
   "source": [
    "#A function to get the number of bboxes for a given image from our dataframe\n",
    "def get_num_bboxes(image_name):\n",
    "    relative_fp = image_name.upper().replace('.TIF', '.xml')\n",
    "    full_fp = os.path.join(DATA_FP, 'annotations', relative_fp)\n",
    "\n",
    "    return get_regression(get_bboxes(full_fp))"
   ]
  },
  {
   "cell_type": "code",
   "execution_count": 3,
   "metadata": {},
   "outputs": [
    {
     "name": "stdout",
     "output_type": "stream",
     "text": [
      "(9396, 8)\n"
     ]
    },
    {
     "data": {
      "text/html": [
       "<div>\n",
       "<style scoped>\n",
       "    .dataframe tbody tr th:only-of-type {\n",
       "        vertical-align: middle;\n",
       "    }\n",
       "\n",
       "    .dataframe tbody tr th {\n",
       "        vertical-align: top;\n",
       "    }\n",
       "\n",
       "    .dataframe thead th {\n",
       "        text-align: right;\n",
       "    }\n",
       "</style>\n",
       "<table border=\"1\" class=\"dataframe\">\n",
       "  <thead>\n",
       "    <tr style=\"text-align: right;\">\n",
       "      <th></th>\n",
       "      <th>Image_ID</th>\n",
       "      <th>GPS_Time</th>\n",
       "      <th>Lat</th>\n",
       "      <th>Long</th>\n",
       "      <th>Altitude_m</th>\n",
       "      <th>Omega</th>\n",
       "      <th>Phi</th>\n",
       "      <th>Kappa</th>\n",
       "    </tr>\n",
       "  </thead>\n",
       "  <tbody>\n",
       "    <tr>\n",
       "      <th>0</th>\n",
       "      <td>FLIR1_20210321_195952_642_1676.tif</td>\n",
       "      <td>90009.003270</td>\n",
       "      <td>40.960730</td>\n",
       "      <td>-98.316897</td>\n",
       "      <td>538.292011</td>\n",
       "      <td>0.025342</td>\n",
       "      <td>5.726347</td>\n",
       "      <td>179.7264</td>\n",
       "    </tr>\n",
       "    <tr>\n",
       "      <th>1</th>\n",
       "      <td>FLIR1_20210321_195953_641_1677.tif</td>\n",
       "      <td>90010.004260</td>\n",
       "      <td>40.960671</td>\n",
       "      <td>-98.316898</td>\n",
       "      <td>538.287711</td>\n",
       "      <td>-0.007181</td>\n",
       "      <td>5.765818</td>\n",
       "      <td>179.3759</td>\n",
       "    </tr>\n",
       "    <tr>\n",
       "      <th>2</th>\n",
       "      <td>FLIR1_20210321_195954_635_1678.tif</td>\n",
       "      <td>90011.005727</td>\n",
       "      <td>40.960612</td>\n",
       "      <td>-98.316898</td>\n",
       "      <td>538.278688</td>\n",
       "      <td>0.025365</td>\n",
       "      <td>5.850090</td>\n",
       "      <td>179.1179</td>\n",
       "    </tr>\n",
       "    <tr>\n",
       "      <th>3</th>\n",
       "      <td>FLIR1_20210321_195955_637_1679.tif</td>\n",
       "      <td>90012.006721</td>\n",
       "      <td>40.960553</td>\n",
       "      <td>-98.316898</td>\n",
       "      <td>538.277663</td>\n",
       "      <td>-0.026031</td>\n",
       "      <td>5.821187</td>\n",
       "      <td>179.1726</td>\n",
       "    </tr>\n",
       "    <tr>\n",
       "      <th>4</th>\n",
       "      <td>FLIR1_20210321_195956_640_1680.tif</td>\n",
       "      <td>90013.002205</td>\n",
       "      <td>40.960493</td>\n",
       "      <td>-98.316898</td>\n",
       "      <td>538.277586</td>\n",
       "      <td>-0.053063</td>\n",
       "      <td>5.799220</td>\n",
       "      <td>179.2741</td>\n",
       "    </tr>\n",
       "  </tbody>\n",
       "</table>\n",
       "</div>"
      ],
      "text/plain": [
       "                             Image_ID      GPS_Time        Lat       Long  \\\n",
       "0  FLIR1_20210321_195952_642_1676.tif  90009.003270  40.960730 -98.316897   \n",
       "1  FLIR1_20210321_195953_641_1677.tif  90010.004260  40.960671 -98.316898   \n",
       "2  FLIR1_20210321_195954_635_1678.tif  90011.005727  40.960612 -98.316898   \n",
       "3  FLIR1_20210321_195955_637_1679.tif  90012.006721  40.960553 -98.316898   \n",
       "4  FLIR1_20210321_195956_640_1680.tif  90013.002205  40.960493 -98.316898   \n",
       "\n",
       "   Altitude_m     Omega       Phi     Kappa  \n",
       "0  538.292011  0.025342  5.726347  179.7264  \n",
       "1  538.287711 -0.007181  5.765818  179.3759  \n",
       "2  538.278688  0.025365  5.850090  179.1179  \n",
       "3  538.277663 -0.026031  5.821187  179.1726  \n",
       "4  538.277586 -0.053063  5.799220  179.2741  "
      ]
     },
     "execution_count": 3,
     "metadata": {},
     "output_type": "execute_result"
    }
   ],
   "source": [
    "#Bringing in the metadata files\n",
    "metadata_1 = pd.read_csv('~/Desktop/Conservation Research/processed_imagery/20210321_193700_metadata.csv')\n",
    "metadata_2 = pd.read_csv('~/Desktop/Conservation Research/processed_imagery/20210321_213000_metadata_FLIR1 CAM1.csv')\n",
    "metadata_3 = pd.read_csv('~/Desktop/Conservation Research/processed_imagery/20210321_224200_metadata_FLIR1 CAM1.csv')\n",
    "metadata_4 = pd.read_csv('~/Desktop/Conservation Research/processed_imagery/20210321_213000_metadata_FLIR2 CAM1.csv')\n",
    "metadata_5 = pd.read_csv('~/Desktop/Conservation Research/processed_imagery/20210321_224200_metadata_FLIR2 CAM1.csv')\n",
    "\n",
    "#  putting everything into one DF\n",
    "metadata = metadata_1.append(metadata_2, ignore_index = True).append(metadata_3, ignore_index = True).append(metadata_4, ignore_index = True).append(metadata_5, ignore_index = True)\n",
    "print(metadata.shape)\n",
    "metadata.head()"
   ]
  },
  {
   "cell_type": "code",
   "execution_count": 4,
   "metadata": {},
   "outputs": [
    {
     "name": "stdout",
     "output_type": "stream",
     "text": [
      "We have 40 images and 40 annotation files\n"
     ]
    }
   ],
   "source": [
    "#Grabbing the image and annotation filepaths\n",
    "image_fps = sorted(os.listdir(os.path.join(DATA_FP, 'images')))\n",
    "annotation_fps = sorted(os.listdir(os.path.join(DATA_FP, 'annotations')))\n",
    "print(f'We have {len(image_fps)} images and {len(annotation_fps)} annotation files')"
   ]
  },
  {
   "cell_type": "code",
   "execution_count": 5,
   "metadata": {},
   "outputs": [],
   "source": [
    "#Grabbing out the metadata for our images - only can grab metadata for 2021 images\n",
    "fps_uppercase = [fp.upper() for fp in image_fps]\n",
    "image_metadata = metadata[metadata['Image_ID'].str.upper().isin(fps_uppercase)]\n",
    "image_metadata;"
   ]
  },
  {
   "cell_type": "code",
   "execution_count": 6,
   "metadata": {},
   "outputs": [
    {
     "data": {
      "text/plain": [
       "array(['20180320_212957_600_9151.tif', '20180320_212958_600_9152.tif',\n",
       "       '20180320_213531_728_9420.tif', '20180320_215253_502_10460.tif',\n",
       "       '20180321_220440_395_1832.tif', '20180321_223201_097_2803.tif',\n",
       "       '20180321_223203_097_2805.tif', '20180321_223204_097_2806.tif',\n",
       "       '20180321_223215_097_2817.tif', '20180321_223216_097_2818.tif',\n",
       "       'FLIR2_20210321_201851_358_2510.TIF'], dtype='<U34')"
      ]
     },
     "execution_count": 6,
     "metadata": {},
     "output_type": "execute_result"
    }
   ],
   "source": [
    "#Which images do we not have metadata for?\n",
    "have_metadata = image_metadata['Image_ID'].to_numpy()\n",
    "have_metadata = [fp.replace('tif', 'TIF') for fp in have_metadata]\n",
    "have_metadata\n",
    "np.setdiff1d(image_fps, have_metadata)"
   ]
  },
  {
   "cell_type": "code",
   "execution_count": 7,
   "metadata": {},
   "outputs": [],
   "source": [
    "#Manually adding the flight heights for those that are missing\n",
    "image_metadata = image_metadata[['Image_ID', 'Altitude_m']].copy()\n",
    "\n",
    "image_metadata = image_metadata.append({'Image_ID' : 'FLIR2_20210321_201851_358_2510.TIF',\n",
    "                                        'Altitude_m' : 1653.5}, ignore_index = True) #grabbed this from the surrounding images in metadata file\n",
    "\n",
    "#  2018 metadata is in the folder name, so I just went back and relocated these in their folders\n",
    "image_metadata = image_metadata.append({'Image_ID' : '20180321_220440_395_1832.tif',\n",
    "                                        'Altitude_m' : 1819.14}, ignore_index = True)\n",
    "image_metadata = image_metadata.append({'Image_ID' : '20180321_223201_097_2803.tif',\n",
    "                                        'Altitude_m' : 1819.14}, ignore_index = True)\n",
    "image_metadata = image_metadata.append({'Image_ID' : '20180321_223203_097_2805.tif',\n",
    "                                        'Altitude_m' : 1819.14}, ignore_index = True)\n",
    "image_metadata = image_metadata.append({'Image_ID' : '20180321_223204_097_2806.tif',\n",
    "                                        'Altitude_m' : 1819.14}, ignore_index = True)\n",
    "image_metadata = image_metadata.append({'Image_ID' : '20180321_223215_097_2817.tif',\n",
    "                                        'Altitude_m' : 1819.14}, ignore_index = True)\n",
    "image_metadata = image_metadata.append({'Image_ID' : '20180321_223216_097_2818.tif',\n",
    "                                        'Altitude_m' : 1819.14}, ignore_index = True)\n",
    "image_metadata = image_metadata.append({'Image_ID' : '20180320_213531_728_9420.tif',\n",
    "                                        'Altitude_m' : 2123.92}, ignore_index = True)\n",
    "image_metadata = image_metadata.append({'Image_ID' : '20180320_212957_600_9151.tif',\n",
    "                                        'Altitude_m' : 2123.92}, ignore_index = True)\n",
    "image_metadata = image_metadata.append({'Image_ID' : '20180320_212958_600_9152.tif',\n",
    "                                        'Altitude_m' : 2123.92}, ignore_index = True)\n",
    "image_metadata = image_metadata.append({'Image_ID' : '20180320_215253_502_10460.tif', \n",
    "                                        'Altitude_m' : 2123.92}, ignore_index = True)"
   ]
  },
  {
   "cell_type": "code",
   "execution_count": 8,
   "metadata": {},
   "outputs": [
    {
     "data": {
      "text/html": [
       "<div>\n",
       "<style scoped>\n",
       "    .dataframe tbody tr th:only-of-type {\n",
       "        vertical-align: middle;\n",
       "    }\n",
       "\n",
       "    .dataframe tbody tr th {\n",
       "        vertical-align: top;\n",
       "    }\n",
       "\n",
       "    .dataframe thead th {\n",
       "        text-align: right;\n",
       "    }\n",
       "</style>\n",
       "<table border=\"1\" class=\"dataframe\">\n",
       "  <thead>\n",
       "    <tr style=\"text-align: right;\">\n",
       "      <th></th>\n",
       "      <th>Image_ID</th>\n",
       "      <th>Altitude_m</th>\n",
       "      <th>num_bboxes</th>\n",
       "    </tr>\n",
       "  </thead>\n",
       "  <tbody>\n",
       "    <tr>\n",
       "      <th>0</th>\n",
       "      <td>FLIR2_20210321_204704_024_4313.tif</td>\n",
       "      <td>1352.841234</td>\n",
       "      <td>2044</td>\n",
       "    </tr>\n",
       "    <tr>\n",
       "      <th>1</th>\n",
       "      <td>FLIR2_20210321_205849_352_4973.tif</td>\n",
       "      <td>1353.264701</td>\n",
       "      <td>1360</td>\n",
       "    </tr>\n",
       "    <tr>\n",
       "      <th>2</th>\n",
       "      <td>FLIR2_20210321_205850_355_4974.tif</td>\n",
       "      <td>1353.090688</td>\n",
       "      <td>1745</td>\n",
       "    </tr>\n",
       "    <tr>\n",
       "      <th>3</th>\n",
       "      <td>FLIR2_20210321_212531_852_5634.tif</td>\n",
       "      <td>1221.399421</td>\n",
       "      <td>1818</td>\n",
       "    </tr>\n",
       "    <tr>\n",
       "      <th>4</th>\n",
       "      <td>FLIR2_20210321_212535_841_5638.tif</td>\n",
       "      <td>1220.768652</td>\n",
       "      <td>1426</td>\n",
       "    </tr>\n",
       "  </tbody>\n",
       "</table>\n",
       "</div>"
      ],
      "text/plain": [
       "                             Image_ID   Altitude_m  num_bboxes\n",
       "0  FLIR2_20210321_204704_024_4313.tif  1352.841234        2044\n",
       "1  FLIR2_20210321_205849_352_4973.tif  1353.264701        1360\n",
       "2  FLIR2_20210321_205850_355_4974.tif  1353.090688        1745\n",
       "3  FLIR2_20210321_212531_852_5634.tif  1221.399421        1818\n",
       "4  FLIR2_20210321_212535_841_5638.tif  1220.768652        1426"
      ]
     },
     "execution_count": 8,
     "metadata": {},
     "output_type": "execute_result"
    }
   ],
   "source": [
    "#Adding in the number of bboxes for each image in the dataset\n",
    "image_metadata['num_bboxes'] = image_metadata['Image_ID'].apply(get_num_bboxes)\n",
    "\n",
    "image_metadata.head()"
   ]
  },
  {
   "cell_type": "code",
   "execution_count": 9,
   "metadata": {},
   "outputs": [
    {
     "name": "stdout",
     "output_type": "stream",
     "text": [
      "We have 63539 bboxes in total\n"
     ]
    }
   ],
   "source": [
    "#Total nummber of bboxes?\n",
    "print(f'We have {image_metadata[\"num_bboxes\"].sum()} bboxes in total')"
   ]
  },
  {
   "cell_type": "code",
   "execution_count": 10,
   "metadata": {},
   "outputs": [
    {
     "data": {
      "image/png": "[encoded data removed]",
      "text/plain": [
       "<Figure size 432x288 with 1 Axes>"
      ]
     },
     "metadata": {
      "needs_background": "light"
     },
     "output_type": "display_data"
    }
   ],
   "source": [
    "#Looking at the distribution of heights in the FULL dataset\n",
    "AGLs_feet = (image_metadata['Altitude_m'] - 600) * 3.281 #converting from above sea level to AGL in meters, then converting to feet\n",
    "sorted_AGLs = AGLs_feet.apply(sort_AGL)\n",
    "sns.countplot(x = sorted_AGLs)\n",
    "plt.xlabel('Altitude (feet)')\n",
    "plt.ylabel('Image count');"
   ]
  },
  {
   "cell_type": "code",
   "execution_count": 11,
   "metadata": {},
   "outputs": [
    {
     "data": {
      "image/png": "[encoded data removed]",
      "text/plain": [
       "<Figure size 432x288 with 1 Axes>"
      ]
     },
     "metadata": {
      "needs_background": "light"
     },
     "output_type": "display_data"
    }
   ],
   "source": [
    "#How many annotated bboxes at each height in the full dataset?\n",
    "image_metadata['AGL_feet'] = sorted_AGLs\n",
    "bboxes_by_AGL = image_metadata.groupby('AGL_feet').sum()['num_bboxes']\n",
    "\n",
    "sns.barplot(x = bboxes_by_AGL.index, y = bboxes_by_AGL);"
   ]
  },
  {
   "cell_type": "code",
   "execution_count": 16,
   "metadata": {},
   "outputs": [
    {
     "data": {
      "image/png": "[encoded data removed]",
      "text/plain": [
       "<Figure size 1440x360 with 2 Axes>"
      ]
     },
     "metadata": {
      "needs_background": "light"
     },
     "output_type": "display_data"
    }
   ],
   "source": [
    "#Checking distribution of heights in the test/train set\n",
    "MODE = 'fixed_perm' #change this to check through the three possible permutations\n",
    "\n",
    "if MODE == 'fixed_perm':\n",
    "    indices = FIXED_PERM\n",
    "elif MODE == 'seed_1': \n",
    "    seed_everything(SEEDS[0])\n",
    "    indices = torch.randperm(40).tolist()\n",
    "elif MODE == 'seed_2': \n",
    "    seed_everything(SEEDS[1])\n",
    "    indices = torch.randperm(40).tolist()\n",
    "\n",
    "bird_dataset = BirdDataset(root_dir = DATA_FP,\n",
    "                           transforms = get_transforms('object_detection', train = False),\n",
    "                           tiling_method = 'w_o_overlap',\n",
    "                           tile_size = (200, 200),\n",
    "                           annotation_mode = 'bboxes')\n",
    "\n",
    "train_indices = indices[ : 24]\n",
    "test_indices = indices[28 : ]\n",
    "test_images = list(np.array(bird_dataset.image_fps)[test_indices])\n",
    "train_images = list(np.array(bird_dataset.image_fps)[train_indices])\n",
    "\n",
    "test_metadata = image_metadata[image_metadata['Image_ID'].str.upper().isin([fp.upper() for fp in test_images])]\n",
    "test_AGL_feet = (test_metadata['Altitude_m'] - 600) * 3.281\n",
    "test_AGL_sorted = test_AGL_feet.apply(sort_AGL)\n",
    "\n",
    "train_metadata = image_metadata[image_metadata['Image_ID'].str.upper().isin([fp.upper() for fp in train_images])]\n",
    "train_AGL_feet = (train_metadata['Altitude_m'] - 600) * 3.281\n",
    "train_AGL_sorted = train_AGL_feet.apply(sort_AGL)\n",
    "\n",
    "fig, ax = plt.subplots(1, 2, figsize = (20, 5))\n",
    "sns.countplot(x = test_AGL_sorted, ax = ax[0])\n",
    "sns.countplot(x = train_AGL_sorted, ax = ax[1])\n",
    "ax[0].set_ylim((0, 7))\n",
    "\n",
    "ax[0].set_xlabel('Altitude (feet)')\n",
    "ax[0].set_ylabel('Image count')\n",
    "ax[0].set_title('Test Set')\n",
    "ax[1].set_xlabel('Altitude (feet)')\n",
    "ax[1].set_ylabel('Image count')\n",
    "ax[1].set_title('Train Set');"
   ]
  },
  {
   "cell_type": "code",
   "execution_count": 98,
   "metadata": {},
   "outputs": [
    {
     "data": {
      "image/png": "[encoded data removed]",
      "text/plain": [
       "<Figure size 432x288 with 1 Axes>"
      ]
     },
     "metadata": {
      "needs_background": "light"
     },
     "output_type": "display_data"
    }
   ],
   "source": [
    "#Checking the number of bboxes at each height in the test set\n",
    "test_bboxes_by_AGL = test_metadata.groupby('AGL_feet').sum()['num_bboxes']\n",
    "\n",
    "sns.barplot(x = test_bboxes_by_AGL.index, y = test_bboxes_by_AGL);"
   ]
  },
  {
   "cell_type": "code",
   "execution_count": 99,
   "metadata": {},
   "outputs": [],
   "source": [
    "#Saving the transformed metadata file for use in later figures (in R instead of Python)\n",
    "tweaked_metadata_df = image_metadata.drop('Altitude_m', axis = 1)\n",
    "tweaked_metadata_df['Image_ID'] = tweaked_metadata_df['Image_ID'].apply(lambda fp: fp.upper() if fp.startswith('FLIR2') else fp)\n",
    "tweaked_metadata_df.to_csv(os.path.join(DATA_FP, 'dataset_metadata.csv'))"
   ]
  },
  {
   "cell_type": "code",
   "execution_count": null,
   "metadata": {},
   "outputs": [],
   "source": []
  },
  {
   "cell_type": "code",
   "execution_count": 35,
   "metadata": {},
   "outputs": [
    {
     "data": {
      "image/png": "[encoded data removed]",
      "text/plain": [
       "<Figure size 432x288 with 3 Axes>"
      ]
     },
     "metadata": {
      "needs_background": "light"
     },
     "output_type": "display_data"
    }
   ],
   "source": [
    "#Messing around w/improving interpretability of the density plots...\n",
    "from matplotlib import cm as CM\n",
    "\n",
    "a = np.random.randn(100, 100)\n",
    "b = np.linspace(0, 5, num = 100 * 100).reshape(100, 100)\n",
    "\n",
    "f, ax = plt.subplots(1, 2)\n",
    "\n",
    "pcm = ax[0].pcolormesh(a, cmap = CM.jet)\n",
    "fig.colorbar(pcm, ax = ax[0])\n",
    "\n",
    "ax[1].imshow(b)\n",
    "\n",
    "ax[0].axis('off')\n",
    "ax[1].axis('off');"
   ]
  },
  {
   "cell_type": "code",
   "execution_count": null,
   "metadata": {},
   "outputs": [],
   "source": []
  }
 ],
 "metadata": {
  "kernelspec": {
   "display_name": "Python 3",
   "language": "python",
   "name": "python3"
  },
  "language_info": {
   "codemirror_mode": {
    "name": "ipython",
    "version": 3
   },
   "file_extension": ".py",
   "mimetype": "text/x-python",
   "name": "python",
   "nbconvert_exporter": "python",
   "pygments_lexer": "ipython3",
   "version": "3.7.3"
  }
 },
 "nbformat": 4,
 "nbformat_minor": 4
}
