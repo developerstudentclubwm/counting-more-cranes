{
 "cells": [
  {
   "cell_type": "code",
   "execution_count": 3,
   "id": "b05c476e",
   "metadata": {},
   "outputs": [
    {
     "ename": "ModuleNotFoundError",
     "evalue": "No module named 'PIL'",
     "output_type": "error",
     "traceback": [
      "\u001b[0;31m---------------------------------------------------------------------------\u001b[0m",
      "\u001b[0;31mModuleNotFoundError\u001b[0m                       Traceback (most recent call last)",
      "Cell \u001b[0;32mIn [3], line 1\u001b[0m\n\u001b[0;32m----> 1\u001b[0m \u001b[38;5;28;01mfrom\u001b[39;00m \u001b[38;5;21;01mPIL\u001b[39;00m \u001b[38;5;28;01mimport\u001b[39;00m Image\n\u001b[1;32m      2\u001b[0m \u001b[38;5;28;01mimport\u001b[39;00m \u001b[38;5;21;01mnumpy\u001b[39;00m \u001b[38;5;28;01mas\u001b[39;00m \u001b[38;5;21;01mnp\u001b[39;00m\n\u001b[1;32m      4\u001b[0m Image\u001b[38;5;241m.\u001b[39mMAX_IMAGE_PIXELS \u001b[38;5;241m=\u001b[39m \u001b[38;5;28;01mNone\u001b[39;00m\n",
      "\u001b[0;31mModuleNotFoundError\u001b[0m: No module named 'PIL'"
     ]
    }
   ],
   "source": [
    "from PIL import Image\n",
    "import numpy as np\n",
    "\n",
    "Image.MAX_IMAGE_PIXELS = None"
   ]
  },
  {
   "cell_type": "code",
   "execution_count": null,
   "id": "2fe51bf5",
   "metadata": {},
   "outputs": [],
   "source": [
    "# Read in an example 2018 mosaic\n",
    "mosaic_fp = '/Users/emiliolr/Desktop/DSC - 2018 Imagery/Mosaics/2018_March_1000ft_agl_mosaics/20180321_214600_fl14-1000agl.jp2'\n",
    "mosaic = Image.open(mosaic_fp)\n",
    "\n",
    "mosaic"
   ]
  },
  {
   "cell_type": "markdown",
   "id": "5ca79a1f",
   "metadata": {},
   "source": [
    "# Notes\n",
    "\n",
    "1. Seems like we're already set in terms of bit depth--already 8-bit images. \n",
    "    - Pixel values in 0-255 range, which is where it should be for the ASPDNet pre-processing.\n",
    "2. They take a while to load since they're very large--further reason to split tiling into a seperate script + cache. \n",
    "    - We'll need to play around with the PIL settings to make tiling work.\n",
    "    - We might want to see if there is a more efficient (GIS?) library here for reading images--a huge portion of each moasic is empty space because the flightlines are very non-linear but the final image needs to be rectangular. \n",
    "3. They are in the format `[HEIGHT x WIDTH x 2]`, where the first channel is the actual visual data and the second is the alpha (transparency)."
   ]
  },
  {
   "cell_type": "code",
   "execution_count": null,
   "id": "49972c16",
   "metadata": {},
   "outputs": [],
   "source": [
    "np_mosaic = np.array(mosaic)"
   ]
  },
  {
   "cell_type": "code",
   "execution_count": null,
   "id": "2b1c2c0d",
   "metadata": {},
   "outputs": [],
   "source": [
    "np_mosaic.shape"
   ]
  },
  {
   "cell_type": "code",
   "execution_count": null,
   "id": "96e04f52",
   "metadata": {},
   "outputs": [],
   "source": [
    "np.unique(np_mosaic[ : , : , 1])"
   ]
  },
  {
   "cell_type": "code",
   "execution_count": null,
   "id": "9ff9e3a9",
   "metadata": {},
   "outputs": [],
   "source": []
  }
 ],
 "metadata": {
  "kernelspec": {
   "display_name": "Python 3 (ipykernel)",
   "language": "python",
   "name": "python3"
  },
  "language_info": {
   "codemirror_mode": {
    "name": "ipython",
    "version": 3
   },
   "file_extension": ".py",
   "mimetype": "text/x-python",
   "name": "python",
   "nbconvert_exporter": "python",
   "pygments_lexer": "ipython3",
   "version": "3.7.16"
  }
 },
 "nbformat": 4,
 "nbformat_minor": 5
}
